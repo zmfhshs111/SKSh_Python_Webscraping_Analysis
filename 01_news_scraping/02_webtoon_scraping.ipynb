{
 "cells": [
  {
   "cell_type": "code",
   "execution_count": null,
   "id": "dccb1654-1f13-4d7b-ba8b-be52c38887e9",
   "metadata": {},
   "outputs": [
    {
     "name": "stdout",
     "output_type": "stream",
     "text": [
      "네이트 뉴스 스크래핑을 시작합니다...\n",
      "\n",
      "==================================================\n",
      "📰 최신뉴스 섹션\n",
      "==================================================\n",
      "\n",
      "[1] 제목: 최민호 세종시장 'U대회기 인수' 유럽 출장…민주당 인사들 \"이 와중에\"최민호 세종시장. / 뉴스1 (세종=뉴스1) 장동열 기자 = 최민호 세종시장이 오는 24일 2027 충청권 하계세계대학경기대회 대회기 인수 등 공무를 위해 독일로 떠난다. 이를 ...\n",
      "    링크: https://news.nate.com/view/20250723n10110?mid=n0100\n",
      "    이미지: https://thumbnews.nateimg.co.kr/news90///news.nateimg.co.kr/orgImg/na/2025/07/23/7408174_high.jpg\n"
     ]
    },
    {
     "data": {
      "text/html": [
       "<img src=\"https://thumbnews.nateimg.co.kr/news90///news.nateimg.co.kr/orgImg/na/2025/07/23/7408174_high.jpg\" width=\"200\"/>"
      ],
      "text/plain": [
       "<IPython.core.display.Image object>"
      ]
     },
     "metadata": {},
     "output_type": "display_data"
    },
    {
     "name": "stdout",
     "output_type": "stream",
     "text": [
      "------------------------------\n",
      "\n",
      "[2] 제목: 미일 \"日상호관세 15%\" 타결…일본車 27.5% →15% 깜짝 합의(종합)지난 2월 백악관에서 정상회담을 갖고 있는 도널드 트럼프 미국 대통령(오른쪽)과 이시바 시게루 일본 총리. 2025.02.07. ⓒ 로이터=뉴스1 ⓒ News1 이지예 객원기자 (서울...\n",
      "    링크: https://news.nate.com/view/20250723n09861?mid=n0100\n",
      "    이미지: https://thumbnews.nateimg.co.kr/news90///news.nateimg.co.kr/orgImg/na/2025/07/23/7325680_high.jpg\n"
     ]
    },
    {
     "data": {
      "text/html": [
       "<img src=\"https://thumbnews.nateimg.co.kr/news90///news.nateimg.co.kr/orgImg/na/2025/07/23/7325680_high.jpg\" width=\"200\"/>"
      ],
      "text/plain": [
       "<IPython.core.display.Image object>"
      ]
     },
     "metadata": {},
     "output_type": "display_data"
    },
    {
     "name": "stdout",
     "output_type": "stream",
     "text": [
      "------------------------------\n",
      "\n",
      "[3] 제목: 트럭에 사랑의 선풍기 싣고(부산=뉴스1) 윤일지 기자 = 전국 대부분 지역에 폭염특보가 발효 중인 23일 오전 부산진구 부산시민공원 야외주차장에서 대한적십자사 부산지사 자원봉사원들이 취약계층...\n",
      "    링크: https://news.nate.com/view/20250723n09405?mid=n0100\n",
      "    이미지: https://thumbnews.nateimg.co.kr/news90///news.nateimg.co.kr/orgImg/na/2025/07/23/7408239_high.jpg\n"
     ]
    },
    {
     "data": {
      "text/html": [
       "<img src=\"https://thumbnews.nateimg.co.kr/news90///news.nateimg.co.kr/orgImg/na/2025/07/23/7408239_high.jpg\" width=\"200\"/>"
      ],
      "text/plain": [
       "<IPython.core.display.Image object>"
      ]
     },
     "metadata": {},
     "output_type": "display_data"
    },
    {
     "name": "stdout",
     "output_type": "stream",
     "text": [
      "------------------------------\n",
      "\n",
      "[4] 제목: 마무리의 공 하나는 팀을 웃고 울린다…정해영-한준수 배터리의 안이했던 볼 배합 하나가 대역전승을 그르쳤다야구에서 가장 중압감이 큰 보직을 꼽으라면 단연 마무리 투수다. 자신의 공 하나에 팀 동료들이 애써 만들어놓은 승리를 날려버릴 수 있기 때문이다. 그래서 마무리 투수...\n",
      "    링크: https://news.nate.com/view/20250723n09930?mid=n0100\n",
      "    이미지: https://thumbnews.nateimg.co.kr/news90///news.nateimg.co.kr/orgImg/sg/2025/07/23/20250723505545.jpg\n"
     ]
    },
    {
     "data": {
      "text/html": [
       "<img src=\"https://thumbnews.nateimg.co.kr/news90///news.nateimg.co.kr/orgImg/sg/2025/07/23/20250723505545.jpg\" width=\"200\"/>"
      ],
      "text/plain": [
       "<IPython.core.display.Image object>"
      ]
     },
     "metadata": {},
     "output_type": "display_data"
    },
    {
     "name": "stdout",
     "output_type": "stream",
     "text": [
      "------------------------------\n",
      "\n",
      "[5] 제목: 도우인시스 코스닥시장 상장기념식(서울=뉴스1) = 23일 서울 영등포구 한국거래소에서 열린 도우인시스의 코스닥시장 상장기념식에서 유도석 한국IR협회 상무(왼쪽부터), 민경욱 한국거래소 코스닥시장본부...\n",
      "    링크: https://news.nate.com/view/20250723n10106?mid=n0100\n",
      "    이미지: https://thumbnews.nateimg.co.kr/news90///news.nateimg.co.kr/orgImg/na/2025/07/23/7408277_high.jpg\n"
     ]
    },
    {
     "data": {
      "text/html": [
       "<img src=\"https://thumbnews.nateimg.co.kr/news90///news.nateimg.co.kr/orgImg/na/2025/07/23/7408277_high.jpg\" width=\"200\"/>"
      ],
      "text/plain": [
       "<IPython.core.display.Image object>"
      ]
     },
     "metadata": {},
     "output_type": "display_data"
    },
    {
     "name": "stdout",
     "output_type": "stream",
     "text": [
      "------------------------------\n",
      "\n",
      "[6] 제목: '집값 상승 기대감' 3년 만에 최대폭 하락…·6·27 대출 규제 직격탄주택담보대출(주담대) 한도를 6억원으로 축소하는 내용의 고강도 대출 규제로 서울과 수도권 아파트 거래에 빨간불이 켜진 지난달 30일 서울 송파구의 부동산 밀집지역에 ...\n",
      "    링크: https://news.nate.com/view/20250723n03368?mid=n0100\n",
      "    이미지: https://thumbnews.nateimg.co.kr/news90///news.nateimg.co.kr/orgImg/kh/2025/07/23/news-p.v1.20250630.f0b885eeff6e46e59a5f336ee3846ed0_P1.jpeg\n"
     ]
    },
    {
     "data": {
      "text/html": [
       "<img src=\"https://thumbnews.nateimg.co.kr/news90///news.nateimg.co.kr/orgImg/kh/2025/07/23/news-p.v1.20250630.f0b885eeff6e46e59a5f336ee3846ed0_P1.jpeg\" width=\"200\"/>"
      ],
      "text/plain": [
       "<IPython.core.display.Image object>"
      ]
     },
     "metadata": {},
     "output_type": "display_data"
    },
    {
     "name": "stdout",
     "output_type": "stream",
     "text": [
      "------------------------------\n",
      "\n",
      "[7] 제목: 취재진 질문 받으며 특검 향하는 '김건희 집사' 김예성 씨 아내(서울=뉴스1) 박정호 기자 = '김건희 집사' 김예성 씨의 아내 정 모 씨가 23일 서울 종로구 김건희 특검팀(특별검사 민중기)으로 소환 조사에 출석하고 있다. 2025.7.23/뉴...\n",
      "    링크: https://news.nate.com/view/20250723n10046?mid=n0100\n",
      "    이미지: https://thumbnews.nateimg.co.kr/news90///news.nateimg.co.kr/orgImg/na/2025/07/23/7408273_high.jpg\n"
     ]
    },
    {
     "data": {
      "text/html": [
       "<img src=\"https://thumbnews.nateimg.co.kr/news90///news.nateimg.co.kr/orgImg/na/2025/07/23/7408273_high.jpg\" width=\"200\"/>"
      ],
      "text/plain": [
       "<IPython.core.display.Image object>"
      ]
     },
     "metadata": {},
     "output_type": "display_data"
    },
    {
     "name": "stdout",
     "output_type": "stream",
     "text": [
      "------------------------------\n",
      "\n",
      "[8] 제목: [속보] 국회 산자위, 한성숙 중기부 장관 후보자 청문보고서 채택한성숙 중소벤처기업부 장관 후보자 / 사진=뉴스1김대영 한경닷컴 기자 kdy@hankyung.com 관련기사 '1박에 200만원?'…\"이러니 해외여행 가죠\" 소비쿠폰 받으려다 '봉변'…...\n",
      "    링크: https://news.nate.com/view/20250723n09952?mid=n0100\n",
      "    이미지: https://thumbnews.nateimg.co.kr/news90///news.nateimg.co.kr/orgImg/hk/2025/07/23/ZN.41121202.1.jpg\n"
     ]
    },
    {
     "data": {
      "text/html": [
       "<img src=\"https://thumbnews.nateimg.co.kr/news90///news.nateimg.co.kr/orgImg/hk/2025/07/23/ZN.41121202.1.jpg\" width=\"200\"/>"
      ],
      "text/plain": [
       "<IPython.core.display.Image object>"
      ]
     },
     "metadata": {},
     "output_type": "display_data"
    },
    {
     "name": "stdout",
     "output_type": "stream",
     "text": [
      "------------------------------\n",
      "\n",
      "[9] 제목: 국내 거주 외국인만 '265만명'…LG유플러스, 전용 요금제 출시LG유플러스 외국인 고객이 매장에서 전용 요금제 가입 상담을 받고 있다. 사진=LG유플러스LG유플러스가 국내에 거주하는 외국인 고객을 위해 무료 국제전화와 로밍 혜택을 ...\n",
      "    링크: https://news.nate.com/view/20250723n10102?mid=n0100\n",
      "    이미지: https://thumbnews.nateimg.co.kr/news90///news.nateimg.co.kr/orgImg/hk/2025/07/23/01.41195872.1.jpg\n"
     ]
    },
    {
     "data": {
      "text/html": [
       "<img src=\"https://thumbnews.nateimg.co.kr/news90///news.nateimg.co.kr/orgImg/hk/2025/07/23/01.41195872.1.jpg\" width=\"200\"/>"
      ],
      "text/plain": [
       "<IPython.core.display.Image object>"
      ]
     },
     "metadata": {},
     "output_type": "display_data"
    },
    {
     "name": "stdout",
     "output_type": "stream",
     "text": [
      "------------------------------\n",
      "\n",
      "[10] 제목: '제2의 불닭볶음면' 되나···中 냉동김밥 판매에 풀무원 14% 상승 [줍줍 리포트][서울경제] 풀무원(017810)이 중국에 수출하는 냉동김밥 판매가 증가하면서 ‘제2의 불닭볶음면’이 될 수 있다는 기대감이 주가가 크게 오르고 있다. 23일 한국거래소에 ...\n",
      "    링크: https://news.nate.com/view/20250723n07157?mid=n0100\n",
      "    이미지: https://thumbnews.nateimg.co.kr/news90///news.nateimg.co.kr/orgImg/se/2025/07/23/2GVGM9M26U_3.jpg\n"
     ]
    },
    {
     "data": {
      "text/html": [
       "<img src=\"https://thumbnews.nateimg.co.kr/news90///news.nateimg.co.kr/orgImg/se/2025/07/23/2GVGM9M26U_3.jpg\" width=\"200\"/>"
      ],
      "text/plain": [
       "<IPython.core.display.Image object>"
      ]
     },
     "metadata": {},
     "output_type": "display_data"
    },
    {
     "name": "stdout",
     "output_type": "stream",
     "text": [
      "------------------------------\n",
      "\n",
      "==================================================\n",
      "📰 정치 섹션\n",
      "==================================================\n",
      "\n",
      "[1] 제목: '당대표 출사표' 장동혁 \"내부총질·극우몰이 용납 못 해\"\"혁신은 '탄핵 바다' 아닌 '계엄 원인'서 시작\"\"이재명 정부와 제대로 싸우게 만들어야\"장동혁 국민의힘 의원이 23일 \"보수의 가치를 바로 세우고, 혁신을 통해 국민의힘의...\n",
      "    링크: https://news.nate.com/view/20250723n09968?mid=n0101\n",
      "    이미지: https://thumbnews.nateimg.co.kr/news90///news.nateimg.co.kr/orgImg/ss/2025/07/23/20252451753232329.jpg\n"
     ]
    },
    {
     "data": {
      "text/html": [
       "<img src=\"https://thumbnews.nateimg.co.kr/news90///news.nateimg.co.kr/orgImg/ss/2025/07/23/20252451753232329.jpg\" width=\"200\"/>"
      ],
      "text/plain": [
       "<IPython.core.display.Image object>"
      ]
     },
     "metadata": {},
     "output_type": "display_data"
    },
    {
     "name": "stdout",
     "output_type": "stream",
     "text": [
      "------------------------------\n",
      "\n",
      "[2] 제목: 주진우, 국민의힘 대표 출마 선언…\"젊고 강한 보수로 당 탈바꿈\"주진우 국민의힘 의원이 지난 1일 서울 용산구 대통령실 앞에서 열린 현장 의원총회에서 발언하고 있다. 뉴시스 이재명 정부 출범 이후 인사청문 정국에서 대여 공세의 최...\n",
      "    링크: https://news.nate.com/view/20250723n09953?mid=n0101\n",
      "    이미지: https://thumbnews.nateimg.co.kr/news90///news.nateimg.co.kr/orgImg/jo/2025/07/23/ba41d84a-dda0-4af6-8684-226da3a07e25.jpg\n"
     ]
    },
    {
     "data": {
      "text/html": [
       "<img src=\"https://thumbnews.nateimg.co.kr/news90///news.nateimg.co.kr/orgImg/jo/2025/07/23/ba41d84a-dda0-4af6-8684-226da3a07e25.jpg\" width=\"200\"/>"
      ],
      "text/plain": [
       "<IPython.core.display.Image object>"
      ]
     },
     "metadata": {},
     "output_type": "display_data"
    },
    {
     "name": "stdout",
     "output_type": "stream",
     "text": [
      "------------------------------\n",
      "\n",
      "[3] 제목: [속보] 국회 산자위, 한성숙 중기부 장관 후보자 청문보고서 채택김대영 한경닷컴 기자 kdy@hankyung.com 관련기사 '1박에 200만원?'…\"이러니 해외여행 가죠\" 소비쿠폰 받으려다 '봉변'…공무원이라더니 업무시간에 '슈퍼배드' 보던 직원...\n",
      "    링크: https://news.nate.com/view/20250723n09952?mid=n0101\n",
      "    이미지: https://thumbnews.nateimg.co.kr/news90///news.nateimg.co.kr/orgImg/hk/2025/07/23/02.22579247.1.jpg\n"
     ]
    },
    {
     "data": {
      "text/html": [
       "<img src=\"https://thumbnews.nateimg.co.kr/news90///news.nateimg.co.kr/orgImg/hk/2025/07/23/02.22579247.1.jpg\" width=\"200\"/>"
      ],
      "text/plain": [
       "<IPython.core.display.Image object>"
      ]
     },
     "metadata": {},
     "output_type": "display_data"
    },
    {
     "name": "stdout",
     "output_type": "stream",
     "text": [
      "------------------------------\n",
      "\n",
      "[4] 제목: '당권 도전' 장동혁 \"계엄은 민주당 책임…싸우는 사람만 공천\"장동혁 전당대회 출마 선언與-反尹에 계엄 탓 돌리면서\"극우 몰이 하는 것 용납 못해\"인적쇄신은 '대여투쟁 기준' 장동혁 국민의힘 의원이 18일 오전 서울 여의도 국회에서...\n",
      "    링크: https://news.nate.com/view/20250723n09945?mid=n0101\n",
      "    이미지: https://thumbnews.nateimg.co.kr/news90///news.nateimg.co.kr/orgImg/fn/2025/07/23/202507180927543312_l.jpg\n"
     ]
    },
    {
     "data": {
      "text/html": [
       "<img src=\"https://thumbnews.nateimg.co.kr/news90///news.nateimg.co.kr/orgImg/fn/2025/07/23/202507180927543312_l.jpg\" width=\"200\"/>"
      ],
      "text/plain": [
       "<IPython.core.display.Image object>"
      ]
     },
     "metadata": {},
     "output_type": "display_data"
    },
    {
     "name": "stdout",
     "output_type": "stream",
     "text": [
      "------------------------------\n",
      "\n",
      "[5] 제목: [포토] 고개 숙여 인사하는 김병기 대표 직무대행아시아투데이 이병화 기자 = 김병기 더불어민주당 대표 직무대행 겸 원내대표가 23일 국회에서 열린 최고위원회의에 참석하며 인사하고 있다.[인기기사] ▶ 범죄 관여 안했...\n",
      "    링크: https://news.nate.com/view/20250723n09920?mid=n0101\n",
      "    이미지: https://thumbnews.nateimg.co.kr/news90///news.nateimg.co.kr/orgImg/at/2025/07/23/2025072301001841400131861.jpg\n"
     ]
    },
    {
     "data": {
      "text/html": [
       "<img src=\"https://thumbnews.nateimg.co.kr/news90///news.nateimg.co.kr/orgImg/at/2025/07/23/2025072301001841400131861.jpg\" width=\"200\"/>"
      ],
      "text/plain": [
       "<IPython.core.display.Image object>"
      ]
     },
     "metadata": {},
     "output_type": "display_data"
    },
    {
     "name": "stdout",
     "output_type": "stream",
     "text": [
      "------------------------------\n",
      "\n",
      "[6] 제목: [친절한 대기자] \"구속된 尹, 검찰청 복도 두려워하는 이유\"■ 방송 : CBS 라디오 <김현정의 뉴스쇼> FM 98.1 (07:10~09:00)■ 진행 : 김현정 앵커■ 대담 : 권영철(대기자) 친절한 대기자 권영철 대기자 나오셨습니다. 어서 ...\n",
      "    링크: https://news.nate.com/view/20250723n08115?mid=n0101\n",
      "    이미지: https://thumbnews.nateimg.co.kr/news90///news.nateimg.co.kr/orgImg/cb/2025/07/23/202507230723069387_0.jpg\n"
     ]
    },
    {
     "data": {
      "text/html": [
       "<img src=\"https://thumbnews.nateimg.co.kr/news90///news.nateimg.co.kr/orgImg/cb/2025/07/23/202507230723069387_0.jpg\" width=\"200\"/>"
      ],
      "text/plain": [
       "<IPython.core.display.Image object>"
      ]
     },
     "metadata": {},
     "output_type": "display_data"
    },
    {
     "name": "stdout",
     "output_type": "stream",
     "text": [
      "------------------------------\n",
      "\n",
      "[7] 제목: [포토] 최고위원회의 참석하는 김병기 대표 직무대행아시아투데이 이병화 기자 = 김병기 더불어민주당 대표 직무대행 겸 원내대표가 23일 국회에서 열린 최고위원회의에 참석하고 있다.[인기기사] ▶ 범죄 관여 안했다던 박규...\n",
      "    링크: https://news.nate.com/view/20250723n09911?mid=n0101\n",
      "    이미지: https://thumbnews.nateimg.co.kr/news90///news.nateimg.co.kr/orgImg/at/2025/07/23/2025072301001841100131851.jpg\n"
     ]
    },
    {
     "data": {
      "text/html": [
       "<img src=\"https://thumbnews.nateimg.co.kr/news90///news.nateimg.co.kr/orgImg/at/2025/07/23/2025072301001841100131851.jpg\" width=\"200\"/>"
      ],
      "text/plain": [
       "<IPython.core.display.Image object>"
      ]
     },
     "metadata": {},
     "output_type": "display_data"
    },
    {
     "name": "stdout",
     "output_type": "stream",
     "text": [
      "------------------------------\n",
      "\n",
      "[8] 제목: 조경태, 안철수·한동훈에 \"혁신후보 단일화하자\"[서울=뉴시스] 조성봉 기자 = 조경태 국민의힘 의원이 21일 오전 서울 여의도 국회 소통관에서 당대표 출마선언 기자회견을 마치고 취재진의 질문에 답변하고 있다. 2025.0...\n",
      "    링크: https://news.nate.com/view/20250723n09907?mid=n0101\n",
      "    이미지: https://thumbnews.nateimg.co.kr/news90///news.nateimg.co.kr/orgImg/ns/2025/07/23/NISI20250721_0020897709_web.jpg\n"
     ]
    },
    {
     "data": {
      "text/html": [
       "<img src=\"https://thumbnews.nateimg.co.kr/news90///news.nateimg.co.kr/orgImg/ns/2025/07/23/NISI20250721_0020897709_web.jpg\" width=\"200\"/>"
      ],
      "text/plain": [
       "<IPython.core.display.Image object>"
      ]
     },
     "metadata": {},
     "output_type": "display_data"
    },
    {
     "name": "stdout",
     "output_type": "stream",
     "text": [
      "------------------------------\n",
      "\n",
      "[9] 제목: 의원-보좌관 일반 직장과 성격 달라? 與 이소영 \"차별적 논리\"이소영 더불어민주당 의원은 22일 강선우 여성가족부장관 후보자의 갑질 의혹을 옹호한 문준석 원내수석부대표를 겨냥, “오늘 한 분의 의원님께서 ‘일반적인 직장 내 갑...\n",
      "    링크: https://news.nate.com/view/20250723n09905?mid=n0101\n",
      "    이미지: https://thumbnews.nateimg.co.kr/news90///news.nateimg.co.kr/orgImg/mh/2025/07/23/news-p.v1.20250722.7c854cc1f9dc41499c6a1c0ec9f4af72_P1.jpg\n"
     ]
    },
    {
     "data": {
      "text/html": [
       "<img src=\"https://thumbnews.nateimg.co.kr/news90///news.nateimg.co.kr/orgImg/mh/2025/07/23/news-p.v1.20250722.7c854cc1f9dc41499c6a1c0ec9f4af72_P1.jpg\" width=\"200\"/>"
      ],
      "text/plain": [
       "<IPython.core.display.Image object>"
      ]
     },
     "metadata": {},
     "output_type": "display_data"
    },
    {
     "name": "stdout",
     "output_type": "stream",
     "text": [
      "------------------------------\n",
      "\n",
      "[10] 제목: 당대표 출마선언하는 장동혁 의원[서울=뉴시스] 김명년 기자 = 장동혁 국민의힘 의원이 23일 오전 서울 여의도 국회 박물관에서 당대표 출마선언을 하고 있다. 2025.07.23. kmn@newsis.com [사진 영상 제보...\n",
      "    링크: https://news.nate.com/view/20250723n09904?mid=n0101\n",
      "    이미지: https://thumbnews.nateimg.co.kr/news90///news.nateimg.co.kr/orgImg/ns/2025/07/23/NISI20250723_0020900263_web.jpg\n"
     ]
    },
    {
     "data": {
      "text/html": [
       "<img src=\"https://thumbnews.nateimg.co.kr/news90///news.nateimg.co.kr/orgImg/ns/2025/07/23/NISI20250723_0020900263_web.jpg\" width=\"200\"/>"
      ],
      "text/plain": [
       "<IPython.core.display.Image object>"
      ]
     },
     "metadata": {},
     "output_type": "display_data"
    },
    {
     "name": "stdout",
     "output_type": "stream",
     "text": [
      "------------------------------\n",
      "\n",
      "==================================================\n",
      "📰 경제 섹션\n",
      "==================================================\n",
      "\n",
      "[1] 제목: 풀무원푸드앤컬처, 고속도로 휴게소 '미식 로드' 공개풀무원푸드앤컬처는 본격적인 여름 휴가철을 맞아 전국 26개 고속도로 휴게소에서 지역 특산 식재료를 활용한 여름 시즌 한정 메뉴와 다양한 고객 체험형 콘텐츠를 운영한...\n",
      "    링크: https://news.nate.com/view/20250723n10039?mid=n0102\n",
      "    이미지: https://thumbnews.nateimg.co.kr/news90///news.nateimg.co.kr/orgImg/is/2025/07/23/isp20250723000083.671x798.0.jpg\n"
     ]
    },
    {
     "data": {
      "text/html": [
       "<img src=\"https://thumbnews.nateimg.co.kr/news90///news.nateimg.co.kr/orgImg/is/2025/07/23/isp20250723000083.671x798.0.jpg\" width=\"200\"/>"
      ],
      "text/plain": [
       "<IPython.core.display.Image object>"
      ]
     },
     "metadata": {},
     "output_type": "display_data"
    },
    {
     "name": "stdout",
     "output_type": "stream",
     "text": [
      "------------------------------\n",
      "\n",
      "[2] 제목: 에이블리, 성수에 글로벌 전용 풀필먼트 센터···\"K패션 해외 유통망 강화\"에이블리가 서울 성수동에 글로벌 전용 풀필먼트 센터를 신설하며, ‘K패션 글로벌 유통망 강화’에 본격 박차를 가한다. 사진 제공=에이블리[서울경제] 온라인 여성 패션...\n",
      "    링크: https://news.nate.com/view/20250723n10034?mid=n0102\n",
      "    이미지: https://thumbnews.nateimg.co.kr/news90///news.nateimg.co.kr/orgImg/se/2025/07/23/2GVGN81XRT_1.jpg\n"
     ]
    },
    {
     "data": {
      "text/html": [
       "<img src=\"https://thumbnews.nateimg.co.kr/news90///news.nateimg.co.kr/orgImg/se/2025/07/23/2GVGN81XRT_1.jpg\" width=\"200\"/>"
      ],
      "text/plain": [
       "<IPython.core.display.Image object>"
      ]
     },
     "metadata": {},
     "output_type": "display_data"
    },
    {
     "name": "stdout",
     "output_type": "stream",
     "text": [
      "------------------------------\n",
      "\n",
      "[3] 제목: 현대건설, 스타벅스와 협업한 콜라보 제품 공개[이데일리 박지애 기자] 현대건설은 건설업계 최초로 스타벅스 코리아와 협업을 통해 최신 트렌드를 반영한 콜라보 제품을 선보인다고 23일 밝혔다.현대건설 입주민 위한 ...\n",
      "    링크: https://news.nate.com/view/20250723n10031?mid=n0102\n",
      "    이미지: https://thumbnews.nateimg.co.kr/news90///news.nateimg.co.kr/orgImg/ed/2025/07/23/PS25072300573.jpg\n"
     ]
    },
    {
     "data": {
      "text/html": [
       "<img src=\"https://thumbnews.nateimg.co.kr/news90///news.nateimg.co.kr/orgImg/ed/2025/07/23/PS25072300573.jpg\" width=\"200\"/>"
      ],
      "text/plain": [
       "<IPython.core.display.Image object>"
      ]
     },
     "metadata": {},
     "output_type": "display_data"
    },
    {
     "name": "stdout",
     "output_type": "stream",
     "text": [
      "------------------------------\n",
      "\n",
      "[4] 제목: 대동, 우크라이나 농업 재건 본격화…농업부와 MOU 체결대동은 우크라이나 농업정책식품부와 농기계 교육 및 기술지원을 위한 양해각서(MOU)를 체결하고, 우크라이나 농업 부문의 재건과 현대화를 위한 중장기 협력 체계를 본격...\n",
      "    링크: https://news.nate.com/view/20250723n10030?mid=n0102\n",
      "    이미지: https://thumbnews.nateimg.co.kr/news90///news.nateimg.co.kr/orgImg/ae/2025/07/23/ae_1753233248105_151333_0.png\n"
     ]
    },
    {
     "data": {
      "text/html": [
       "<img src=\"https://thumbnews.nateimg.co.kr/news90///news.nateimg.co.kr/orgImg/ae/2025/07/23/ae_1753233248105_151333_0.png\" width=\"200\"/>"
      ],
      "text/plain": [
       "<IPython.core.display.Image object>"
      ]
     },
     "metadata": {},
     "output_type": "display_data"
    },
    {
     "name": "stdout",
     "output_type": "stream",
     "text": [
      "------------------------------\n",
      "\n",
      "[5] 제목: LX하우시스 뷰프레임 창호, '올해의 녹색상품' 선정(서울=연합뉴스) LX하우시스는 'LX Z:IN(LX지인) 창호 뷰프레임'이 '2025 대한민국 올해의 녹색상품'에 선정됨과 동시에 '소비자가 뽑은 인기상'을 수상했다고 23일 밝혔다...\n",
      "    링크: https://news.nate.com/view/20250723n10027?mid=n0102\n",
      "    이미지: https://thumbnews.nateimg.co.kr/news90///news.nateimg.co.kr/orgImg/yt/2025/07/23/PYH2025072302130000300_P2.jpg\n"
     ]
    },
    {
     "data": {
      "text/html": [
       "<img src=\"https://thumbnews.nateimg.co.kr/news90///news.nateimg.co.kr/orgImg/yt/2025/07/23/PYH2025072302130000300_P2.jpg\" width=\"200\"/>"
      ],
      "text/plain": [
       "<IPython.core.display.Image object>"
      ]
     },
     "metadata": {},
     "output_type": "display_data"
    },
    {
     "name": "stdout",
     "output_type": "stream",
     "text": [
      "------------------------------\n",
      "\n",
      "[6] 제목: [핀타쿠] 토스·카카오페이·네이버페이프라임경제 간편결제부터 크라우드펀딩까지, 핀테크(fintech)를 알면 알수록 '금융 신세계'가 열린다. 다만 아직 낯선 서비스도 많은데, 본지는 직접 '핀테크 오타쿠(이하 ...\n",
      "    링크: https://news.nate.com/view/20250723n10021?mid=n0102\n",
      "    이미지: https://thumbnews.nateimg.co.kr/news90///news.nateimg.co.kr/orgImg/fr/2025/07/23/art_697254_1753230911.jpg\n"
     ]
    },
    {
     "data": {
      "text/html": [
       "<img src=\"https://thumbnews.nateimg.co.kr/news90///news.nateimg.co.kr/orgImg/fr/2025/07/23/art_697254_1753230911.jpg\" width=\"200\"/>"
      ],
      "text/plain": [
       "<IPython.core.display.Image object>"
      ]
     },
     "metadata": {},
     "output_type": "display_data"
    },
    {
     "name": "stdout",
     "output_type": "stream",
     "text": [
      "------------------------------\n",
      "\n",
      "[7] 제목: \"나눔으로 자원순환까지\"…삼표그룹, 임직원 물품 기부 캠페인 전개사진=삼표그룹 제공[데일리한국 전준형 기자]삼표그룹은 일상 속 나눔문화 확산과 자원 재순환을 통한 환경보호 실천을 위해 전 계열사 임직원이 참여하는 물품 기부 캠페...\n",
      "    링크: https://news.nate.com/view/20250723n10019?mid=n0102\n",
      "    이미지: https://thumbnews.nateimg.co.kr/news90///news.nateimg.co.kr/orgImg/wh/2025/07/23/1247316_1446367_1116.jpg\n"
     ]
    },
    {
     "data": {
      "text/html": [
       "<img src=\"https://thumbnews.nateimg.co.kr/news90///news.nateimg.co.kr/orgImg/wh/2025/07/23/1247316_1446367_1116.jpg\" width=\"200\"/>"
      ],
      "text/plain": [
       "<IPython.core.display.Image object>"
      ]
     },
     "metadata": {},
     "output_type": "display_data"
    },
    {
     "name": "stdout",
     "output_type": "stream",
     "text": [
      "------------------------------\n",
      "\n",
      "[8] 제목: 한국투자증권, 뱅키스 '채권 총출동' 이벤트 실시[이데일리 김경은 기자] 한국투자증권은 오는 9월 30일까지 ‘뱅키스(BanKIS)’ 고객을 대상으로 ‘채권 총출동 이벤트’를 진행한다고 23일 밝혔다. 뱅키스는 한국투자증...\n",
      "    링크: https://news.nate.com/view/20250723n10015?mid=n0102\n",
      "    이미지: https://thumbnews.nateimg.co.kr/news90///news.nateimg.co.kr/orgImg/ed/2025/07/23/PS25072300569.jpg\n"
     ]
    },
    {
     "data": {
      "text/html": [
       "<img src=\"https://thumbnews.nateimg.co.kr/news90///news.nateimg.co.kr/orgImg/ed/2025/07/23/PS25072300569.jpg\" width=\"200\"/>"
      ],
      "text/plain": [
       "<IPython.core.display.Image object>"
      ]
     },
     "metadata": {},
     "output_type": "display_data"
    },
    {
     "name": "stdout",
     "output_type": "stream",
     "text": [
      "------------------------------\n",
      "\n",
      "[9] 제목: [특징주]중국에서 '냉동 김밥' 매출 늘자…풀무원, 17%↑23일 풀무원의 주가가 급등하고 있다. 중국에서 풀무원의 냉동 김밥 매출이 오르자, 중국 시장 확대 기대감이 반영된 것으로 풀이된다.이날 오전 10시7분 기준 풀무원은 전...\n",
      "    링크: https://news.nate.com/view/20250723n10012?mid=n0102\n",
      "    이미지: https://thumbnews.nateimg.co.kr/news90///news.nateimg.co.kr/orgImg/ae/2025/07/23/ae_1753233247100_951286_0.jpg\n"
     ]
    },
    {
     "data": {
      "text/html": [
       "<img src=\"https://thumbnews.nateimg.co.kr/news90///news.nateimg.co.kr/orgImg/ae/2025/07/23/ae_1753233247100_951286_0.jpg\" width=\"200\"/>"
      ],
      "text/plain": [
       "<IPython.core.display.Image object>"
      ]
     },
     "metadata": {},
     "output_type": "display_data"
    },
    {
     "name": "stdout",
     "output_type": "stream",
     "text": [
      "------------------------------\n",
      "\n",
      "[10] 제목: 블록체인사 DSRV, 160억 시리즈 B 유치[헤럴드경제=유동현 기자] 블록체인 인프라 기업 DSRV가 약 160억 원 규모의 시리즈 B 1차 투자 유치에 성공했다고 23일 밝혔다. 이번 라운드는 인터베스트, 나이스-SK증권...\n",
      "    링크: https://news.nate.com/view/20250723n10002?mid=n0102\n",
      "    이미지: https://thumbnews.nateimg.co.kr/news90///news.nateimg.co.kr/orgImg/hr/2025/07/23/news-p.v1.20250723.21e6ba9948034230b963a85fee075261_P1.png\n"
     ]
    },
    {
     "data": {
      "text/html": [
       "<img src=\"https://thumbnews.nateimg.co.kr/news90///news.nateimg.co.kr/orgImg/hr/2025/07/23/news-p.v1.20250723.21e6ba9948034230b963a85fee075261_P1.png\" width=\"200\"/>"
      ],
      "text/plain": [
       "<IPython.core.display.Image object>"
      ]
     },
     "metadata": {},
     "output_type": "display_data"
    },
    {
     "name": "stdout",
     "output_type": "stream",
     "text": [
      "------------------------------\n",
      "\n",
      "==================================================\n",
      "📰 사회 섹션\n",
      "==================================================\n",
      "\n",
      "[1] 제목: 김예성 씨 부인 김건희 특검 출석(서울=뉴스1) 박정호 기자 = '김건희 집사' 김예성 씨의 아내 정 모 씨가 23일 서울 종로구 김건희 특검팀(특별검사 민중기)으로 소환 조사에 출석하고 있다. 2025.7.23/뉴...\n",
      "    링크: https://news.nate.com/view/20250723n10196?mid=n0103\n",
      "    이미지: https://thumbnews.nateimg.co.kr/news90///news.nateimg.co.kr/orgImg/na/2025/07/23/7408284_high.jpg\n"
     ]
    },
    {
     "data": {
      "text/html": [
       "<img src=\"https://thumbnews.nateimg.co.kr/news90///news.nateimg.co.kr/orgImg/na/2025/07/23/7408284_high.jpg\" width=\"200\"/>"
      ],
      "text/plain": [
       "<IPython.core.display.Image object>"
      ]
     },
     "metadata": {},
     "output_type": "display_data"
    },
    {
     "name": "stdout",
     "output_type": "stream",
     "text": [
      "------------------------------\n",
      "\n",
      "[2] 제목: [기고] 작은 식품클러스터 하나가 마을을 살린다김덕호 한국식품산업클러스터진흥원 이사장 (익산=뉴스1) 김덕호 한국식품산업클러스터진흥원 이사장 = 지방소멸은 더 이상 미래의 위협이 아니라, 현재진행형의 위기다. ...\n",
      "    링크: https://news.nate.com/view/20250723n10195?mid=n0103\n",
      "    이미지: https://thumbnews.nateimg.co.kr/news90///news.nateimg.co.kr/orgImg/na/2025/07/23/7408158_high.jpg\n"
     ]
    },
    {
     "data": {
      "text/html": [
       "<img src=\"https://thumbnews.nateimg.co.kr/news90///news.nateimg.co.kr/orgImg/na/2025/07/23/7408158_high.jpg\" width=\"200\"/>"
      ],
      "text/plain": [
       "<IPython.core.display.Image object>"
      ]
     },
     "metadata": {},
     "output_type": "display_data"
    },
    {
     "name": "stdout",
     "output_type": "stream",
     "text": [
      "------------------------------\n",
      "\n",
      "[3] 제목: [속보] 소비쿠폰 이틀 만에 1천428만명 신청…2조5천860억원 지급(끝) [이 시각 많이 본 기사]☞ 영화 반값에 보세요…문체부 '6천원 할인권' 450만장 발급☞ [샷!] 강남 한복판서 밥 퍼주는 편의점☞ 산사태로 통째 꺼진 산청 상능마을…...\n",
      "    링크: https://news.nate.com/view/20250723n09323?mid=n0103\n",
      "    이미지: https://thumbnews.nateimg.co.kr/news90///news.nateimg.co.kr/orgImg/yt/2025/07/23/PYH2025072116910005400_P2.jpg\n"
     ]
    },
    {
     "data": {
      "text/html": [
       "<img src=\"https://thumbnews.nateimg.co.kr/news90///news.nateimg.co.kr/orgImg/yt/2025/07/23/PYH2025072116910005400_P2.jpg\" width=\"200\"/>"
      ],
      "text/plain": [
       "<IPython.core.display.Image object>"
      ]
     },
     "metadata": {},
     "output_type": "display_data"
    },
    {
     "name": "stdout",
     "output_type": "stream",
     "text": [
      "------------------------------\n",
      "\n",
      "[4] 제목: 인천 남항부두서 60대 작업자 살수차와 옹벽 사이에 끼여 숨져인천 남항부두에서 60대 작업자가 살수차와 옹벽 사이에 끼여 숨졌습니다.\n",
      "\n",
      "오늘(23일) 인천경찰청 형사기동대에 따르면 전날 오전 9시쯤 중구 남항부두에서 경사...\n",
      "    링크: https://news.nate.com/view/20250723n10188?mid=n0103\n",
      "    이미지: https://thumbnews.nateimg.co.kr/news90///news.nateimg.co.kr/orgImg/sv/2025/07/23/202048561_700.jpg\n"
     ]
    },
    {
     "data": {
      "text/html": [
       "<img src=\"https://thumbnews.nateimg.co.kr/news90///news.nateimg.co.kr/orgImg/sv/2025/07/23/202048561_700.jpg\" width=\"200\"/>"
      ],
      "text/plain": [
       "<IPython.core.display.Image object>"
      ]
     },
     "metadata": {},
     "output_type": "display_data"
    },
    {
     "name": "stdout",
     "output_type": "stream",
     "text": [
      "------------------------------\n",
      "\n",
      "[5] 제목: [부고] 이재현 씨(KBS PD) 부친상■ 이용탁 씨 별세, 이재현 씨(KBS PD) 부친상=22일, 서울아산병원장례식장 21호실, 발인 25일 오전 9시 20분, 02-3010-2000. Copyright ⓒ 뉴스1. All rights reserved. ...\n",
      "    링크: https://news.nate.com/view/20250723n10186?mid=n0103\n",
      "    이미지: https://thumbnews.nateimg.co.kr/news90///news.nateimg.co.kr/orgImg/na/2025/07/23/6696688_high.jpg\n"
     ]
    },
    {
     "data": {
      "text/html": [
       "<img src=\"https://thumbnews.nateimg.co.kr/news90///news.nateimg.co.kr/orgImg/na/2025/07/23/6696688_high.jpg\" width=\"200\"/>"
      ],
      "text/plain": [
       "<IPython.core.display.Image object>"
      ]
     },
     "metadata": {},
     "output_type": "display_data"
    },
    {
     "name": "stdout",
     "output_type": "stream",
     "text": [
      "------------------------------\n",
      "\n",
      "[6] 제목: GD, APEC 정상회의 홍보대사 위촉…국무총리 \"창의·혁신 보여주는 한국 대표 아티스트\"지드래곤(G-DRAGON). 갤럭시코퍼레이션 가수 지드래곤(G-DRAGON)이 2025 APEC(Asia-Pacific Economic Cooperation, 아시아 태평양 경제협력체) 정상회의 홍보대사로 위촉됐...\n",
      "    링크: https://news.nate.com/view/20250723n10173?mid=n0103\n",
      "    이미지: https://thumbnews.nateimg.co.kr/news90///news.nateimg.co.kr/orgImg/sg/2025/07/23/20250723505658.png\n"
     ]
    },
    {
     "data": {
      "text/html": [
       "<img src=\"https://thumbnews.nateimg.co.kr/news90///news.nateimg.co.kr/orgImg/sg/2025/07/23/20250723505658.png\" width=\"200\"/>"
      ],
      "text/plain": [
       "<IPython.core.display.Image object>"
      ]
     },
     "metadata": {},
     "output_type": "display_data"
    },
    {
     "name": "stdout",
     "output_type": "stream",
     "text": [
      "------------------------------\n",
      "\n",
      "[7] 제목: 영어 자신감 키우기 위해 초·중생 여름방학 해외어학연수사진=금산군 제공영어에 대한 자신감과 세계를 향한 넓은 시야를 갖게 하기 위해 금산군이 22일부터 오는 8월 18일까지 일정으로 필리핀에서 진행하는 초·중생 여름방학 ...\n",
      "    링크: https://news.nate.com/view/20250723n10168?mid=n0103\n",
      "    이미지: https://thumbnews.nateimg.co.kr/news90///news.nateimg.co.kr/orgImg/ae/2025/07/23/ae_1753233371175_75129_0.jpg\n"
     ]
    },
    {
     "data": {
      "text/html": [
       "<img src=\"https://thumbnews.nateimg.co.kr/news90///news.nateimg.co.kr/orgImg/ae/2025/07/23/ae_1753233371175_75129_0.jpg\" width=\"200\"/>"
      ],
      "text/plain": [
       "<IPython.core.display.Image object>"
      ]
     },
     "metadata": {},
     "output_type": "display_data"
    },
    {
     "name": "stdout",
     "output_type": "stream",
     "text": [
      "------------------------------\n",
      "\n",
      "[8] 제목: 아산시, 소비쿠폰 '방문, 서류 없이 1분 만에' 아산페이 앱에서 신청아산시청 전경. 사진=아산시 제공[아산(충남)=데일리한국 박월복 기자] 아산시(시장 오세현)가 민생회복 소비쿠폰을 아산페이 어플인 '지역화폐 chak'에서 방문없이별도 준...\n",
      "    링크: https://news.nate.com/view/20250723n10165?mid=n0103\n",
      "    이미지: https://thumbnews.nateimg.co.kr/news90///news.nateimg.co.kr/orgImg/wh/2025/07/23/1247224_1446292_4727.jpg\n"
     ]
    },
    {
     "data": {
      "text/html": [
       "<img src=\"https://thumbnews.nateimg.co.kr/news90///news.nateimg.co.kr/orgImg/wh/2025/07/23/1247224_1446292_4727.jpg\" width=\"200\"/>"
      ],
      "text/plain": [
       "<IPython.core.display.Image object>"
      ]
     },
     "metadata": {},
     "output_type": "display_data"
    },
    {
     "name": "stdout",
     "output_type": "stream",
     "text": [
      "------------------------------\n",
      "\n",
      "[9] 제목: \"연예인 1시간 1500만 원\" 안선영이 밝힌 홈쇼핑 출연료[서울=뉴시스] 방송인 안선영은 4일 자신의 유튜브 채널을 통해 캐나다 이민을 결심한 이유를 설명했다. (사진=유튜브 채널 '이게 바로 안선영' 화면 캡처) 2025.07.05 pho...\n",
      "    링크: https://news.nate.com/view/20250723n01637?mid=n0103\n",
      "    이미지: https://thumbnews.nateimg.co.kr/news90///news.nateimg.co.kr/orgImg/fn/2025/07/23/202507051029435945_l.jpg\n"
     ]
    },
    {
     "data": {
      "text/html": [
       "<img src=\"https://thumbnews.nateimg.co.kr/news90///news.nateimg.co.kr/orgImg/fn/2025/07/23/202507051029435945_l.jpg\" width=\"200\"/>"
      ],
      "text/plain": [
       "<IPython.core.display.Image object>"
      ]
     },
     "metadata": {},
     "output_type": "display_data"
    },
    {
     "name": "stdout",
     "output_type": "stream",
     "text": [
      "------------------------------\n",
      "\n",
      "[10] 제목: \"담배 피우는 여자 보면 술집 여자\"…딸 흡연에 충격받은 엄마의 막말 [어떻게 생각하세요]기사 이해를 돕기 위해 ai로 생성한 이미지 [파이낸셜뉴스] 20대 딸의 흡연 사실에 화가 난다는 한 어머니의 사연에 전해졌다. 지난 21일 한 온라인 커뮤니티에는 '담배 피...\n",
      "    링크: https://news.nate.com/view/20250723n03264?mid=n0103\n",
      "    이미지: https://thumbnews.nateimg.co.kr/news90///news.nateimg.co.kr/orgImg/fn/2025/07/23/202507230721377031_l.jpg\n"
     ]
    },
    {
     "data": {
      "text/html": [
       "<img src=\"https://thumbnews.nateimg.co.kr/news90///news.nateimg.co.kr/orgImg/fn/2025/07/23/202507230721377031_l.jpg\" width=\"200\"/>"
      ],
      "text/plain": [
       "<IPython.core.display.Image object>"
      ]
     },
     "metadata": {},
     "output_type": "display_data"
    },
    {
     "name": "stdout",
     "output_type": "stream",
     "text": [
      "------------------------------\n",
      "\n",
      "==================================================\n",
      "📰 세계 섹션\n",
      "==================================================\n",
      "\n",
      "[1] 제목: 한미일 의회 대화채널 설립법안, 美하원 외교위 통과(워싱턴=연합뉴스) 박성민 특파원 = 한국과 미국, 일본 3개국 의회의 대화 채널을 설립하는 법안이 미 연방 하원 외교위원회를 통과했다고 외교위 산하 동아태소위의 민주...\n",
      "    링크: https://news.nate.com/view/20250723n10193?mid=n0104\n",
      "    이미지: https://thumbnews.nateimg.co.kr/news90///news.nateimg.co.kr/orgImg/yt/2025/07/23/AKR20250723055500071_01_i.jpg\n"
     ]
    },
    {
     "data": {
      "text/html": [
       "<img src=\"https://thumbnews.nateimg.co.kr/news90///news.nateimg.co.kr/orgImg/yt/2025/07/23/AKR20250723055500071_01_i.jpg\" width=\"200\"/>"
      ],
      "text/plain": [
       "<IPython.core.display.Image object>"
      ]
     },
     "metadata": {},
     "output_type": "display_data"
    },
    {
     "name": "stdout",
     "output_type": "stream",
     "text": [
      "------------------------------\n",
      "\n",
      "[2] 제목: 스페이스X 독점 무너지나…트럼프 골든돔에 아마존 참여 타진위성 발사체 시장 후발주자 아마존에 기회…스페이스X 비중 감소 가능성 (서울=연합뉴스) 고일환 기자 = 억만장자 일론 머스크가 경영하는 우주기업 스페이스X의 위성 발사...\n",
      "    링크: https://news.nate.com/view/20250723n09949?mid=n0104\n",
      "    이미지: https://thumbnews.nateimg.co.kr/news90///news.nateimg.co.kr/orgImg/yt/2025/07/23/PUP20250521022101009_P2.jpg\n"
     ]
    },
    {
     "data": {
      "text/html": [
       "<img src=\"https://thumbnews.nateimg.co.kr/news90///news.nateimg.co.kr/orgImg/yt/2025/07/23/PUP20250521022101009_P2.jpg\" width=\"200\"/>"
      ],
      "text/plain": [
       "<IPython.core.display.Image object>"
      ]
     },
     "metadata": {},
     "output_type": "display_data"
    },
    {
     "name": "stdout",
     "output_type": "stream",
     "text": [
      "------------------------------\n",
      "\n",
      "[3] 제목: 日닛케이지수, 미일 무역협상 타결에 2.5%↑…자동차 기업 급등(도쿄=연합뉴스) 박상현 특파원 = 일본 증시 대표 주가지수인 닛케이225 평균주가(이하 닛케이지수)가 23일 미국과 일본 간 무역 협상 타결 발표에 한때 2.5%가량 급등했다...\n",
      "    링크: https://news.nate.com/view/20250723n10185?mid=n0104\n",
      "    이미지: https://thumbnews.nateimg.co.kr/news90///news.nateimg.co.kr/orgImg/yt/2025/07/23/PAF20250723119201009_P2.jpg\n"
     ]
    },
    {
     "data": {
      "text/html": [
       "<img src=\"https://thumbnews.nateimg.co.kr/news90///news.nateimg.co.kr/orgImg/yt/2025/07/23/PAF20250723119201009_P2.jpg\" width=\"200\"/>"
      ],
      "text/plain": [
       "<IPython.core.display.Image object>"
      ]
     },
     "metadata": {},
     "output_type": "display_data"
    },
    {
     "name": "stdout",
     "output_type": "stream",
     "text": [
      "------------------------------\n",
      "\n",
      "[4] 제목: \"150만원 보내줘\" 통화 뒤 日서 실종된 韓여성, 한달만에 '안전' 확인지난달 27일 일본에 입국 후 연락이 두절된 20대 한국인 최모씨 모습. 출처=일본 후지뉴스네트워크(FNN) 보도화면 갈무리 [파이낸셜뉴스] 일본 여행 중 열사병으로 현지 병...\n",
      "    링크: https://news.nate.com/view/20250723n01197?mid=n0104\n",
      "    이미지: https://thumbnews.nateimg.co.kr/news90///news.nateimg.co.kr/orgImg/fn/2025/07/23/202507222047123640_l.jpg\n"
     ]
    },
    {
     "data": {
      "text/html": [
       "<img src=\"https://thumbnews.nateimg.co.kr/news90///news.nateimg.co.kr/orgImg/fn/2025/07/23/202507222047123640_l.jpg\" width=\"200\"/>"
      ],
      "text/plain": [
       "<IPython.core.display.Image object>"
      ]
     },
     "metadata": {},
     "output_type": "display_data"
    },
    {
     "name": "stdout",
     "output_type": "stream",
     "text": [
      "------------------------------\n",
      "\n",
      "[5] 제목: '머스크 라이벌' 베이조스, 지난주 백악관서 트럼프 만나▲ 아마존 창업자 제프 베이조스\n",
      "\n",
      "아마존 창업자 제프 베이조스가 지난주 백악관에서 도널드 트럼프 대통령을 만났다고 미 경제 매체 CNBC 방송이 22일(현지시간) ...\n",
      "    링크: https://news.nate.com/view/20250723n10162?mid=n0104\n",
      "    이미지: https://thumbnews.nateimg.co.kr/news90///news.nateimg.co.kr/orgImg/sv/2025/07/23/201633548_700.jpg\n"
     ]
    },
    {
     "data": {
      "text/html": [
       "<img src=\"https://thumbnews.nateimg.co.kr/news90///news.nateimg.co.kr/orgImg/sv/2025/07/23/201633548_700.jpg\" width=\"200\"/>"
      ],
      "text/plain": [
       "<IPython.core.display.Image object>"
      ]
     },
     "metadata": {},
     "output_type": "display_data"
    },
    {
     "name": "stdout",
     "output_type": "stream",
     "text": [
      "------------------------------\n",
      "\n",
      "[6] 제목: 미 하원, 일정 당겨 23일부터 조기 휴회…'엡스타인 의혹'에 방어막▲ 마이크 존슨 미국 하원 의장\n",
      "\n",
      "미국 공화당 소속 마이크 존슨 하원 의장이 하원의 올해 여름 휴회를 앞당기기로 결정했습니다.\n",
      "\n",
      "존슨 의장은 오는 23일...\n",
      "    링크: https://news.nate.com/view/20250723n10153?mid=n0104\n",
      "    이미지: https://thumbnews.nateimg.co.kr/news90///news.nateimg.co.kr/orgImg/sv/2025/07/23/202094070_700.jpg\n"
     ]
    },
    {
     "data": {
      "text/html": [
       "<img src=\"https://thumbnews.nateimg.co.kr/news90///news.nateimg.co.kr/orgImg/sv/2025/07/23/202094070_700.jpg\" width=\"200\"/>"
      ],
      "text/plain": [
       "<IPython.core.display.Image object>"
      ]
     },
     "metadata": {},
     "output_type": "display_data"
    },
    {
     "name": "stdout",
     "output_type": "stream",
     "text": [
      "------------------------------\n",
      "\n",
      "[7] 제목: 올트먼 오픈AI CEO, AI 이용한 '복제 사기' 경고▲ 샘 올트먼 오픈AI CEO\n",
      "\n",
      "챗GPT 개발업체 오픈AI의 샘 올트먼 최고경영자가 인공지능으로 인한 '사기 위기'를 경고했습니다.\n",
      "\n",
      "22일(현지시간) CNN은 올트...\n",
      "    링크: https://news.nate.com/view/20250723n10137?mid=n0104\n",
      "    이미지: https://thumbnews.nateimg.co.kr/news90///news.nateimg.co.kr/orgImg/sv/2025/07/23/202038376_700.jpg\n"
     ]
    },
    {
     "data": {
      "text/html": [
       "<img src=\"https://thumbnews.nateimg.co.kr/news90///news.nateimg.co.kr/orgImg/sv/2025/07/23/202038376_700.jpg\" width=\"200\"/>"
      ],
      "text/plain": [
       "<IPython.core.display.Image object>"
      ]
     },
     "metadata": {},
     "output_type": "display_data"
    },
    {
     "name": "stdout",
     "output_type": "stream",
     "text": [
      "------------------------------\n",
      "\n",
      "[8] 제목: 밈주식 되더니 '105%' 폭등…개미들 몰린 '이곳', 대체 뭐길래?[서울신문]미국 개인투자자들 사이에서 또다시 ‘밈주식’(온라인에서 입소문을 타고 개인투자자들이 몰리는 주식) 열풍이 불고 있다. 미국의 유명 백화점 체인 ‘콜스’(K...\n",
      "    링크: https://news.nate.com/view/20250723n10121?mid=n0104\n",
      "    이미지: https://thumbnews.nateimg.co.kr/news90///news.nateimg.co.kr/orgImg/no/2025/07/23/SSC_20250723101415_V.jpg\n"
     ]
    },
    {
     "data": {
      "text/html": [
       "<img src=\"https://thumbnews.nateimg.co.kr/news90///news.nateimg.co.kr/orgImg/no/2025/07/23/SSC_20250723101415_V.jpg\" width=\"200\"/>"
      ],
      "text/plain": [
       "<IPython.core.display.Image object>"
      ]
     },
     "metadata": {},
     "output_type": "display_data"
    },
    {
     "name": "stdout",
     "output_type": "stream",
     "text": [
      "------------------------------\n",
      "\n",
      "[9] 제목: 미일 \"日상호관세 15%\" 타결…일본車 27.5% →15% 깜짝 합의(종합)지난 2월 백악관에서 정상회담을 갖고 있는 도널드 트럼프 미국 대통령(오른쪽)과 이시바 시게루 일본 총리. 2025.02.07. ⓒ 로이터=뉴스1 ⓒ News1 이지예 객원기자 (서울...\n",
      "    링크: https://news.nate.com/view/20250723n09861?mid=n0104\n",
      "    이미지: https://thumbnews.nateimg.co.kr/news90///news.nateimg.co.kr/orgImg/na/2025/07/23/7325680_high.jpg\n"
     ]
    },
    {
     "data": {
      "text/html": [
       "<img src=\"https://thumbnews.nateimg.co.kr/news90///news.nateimg.co.kr/orgImg/na/2025/07/23/7325680_high.jpg\" width=\"200\"/>"
      ],
      "text/plain": [
       "<IPython.core.display.Image object>"
      ]
     },
     "metadata": {},
     "output_type": "display_data"
    },
    {
     "name": "stdout",
     "output_type": "stream",
     "text": [
      "------------------------------\n",
      "\n",
      "[10] 제목: [속보] 트럼프 \"일본과 무역 합의, 상호관세율 25→15%로 인하\"일본, 미국에 약 759조 원 투자도널드 트럼프 미국 대통령이 22일(현지시간) 일본과의 무역협상에서 다음 달 1일부터 부과하기로 한 상호관세의 세율을 이달 초 통보한 25%...\n",
      "    링크: https://news.nate.com/view/20250723n05114?mid=n0104\n",
      "    이미지: https://thumbnews.nateimg.co.kr/news90///news.nateimg.co.kr/orgImg/hi/2025/07/23/32485d72-e35e-4712-8559-516fbdd8f53c.jpg\n"
     ]
    },
    {
     "data": {
      "text/html": [
       "<img src=\"https://thumbnews.nateimg.co.kr/news90///news.nateimg.co.kr/orgImg/hi/2025/07/23/32485d72-e35e-4712-8559-516fbdd8f53c.jpg\" width=\"200\"/>"
      ],
      "text/plain": [
       "<IPython.core.display.Image object>"
      ]
     },
     "metadata": {},
     "output_type": "display_data"
    },
    {
     "name": "stdout",
     "output_type": "stream",
     "text": [
      "------------------------------\n",
      "\n",
      "==================================================\n",
      "📰 IT/과학 섹션\n",
      "==================================================\n",
      "\n",
      "[1] 제목: LoL IP 기반 격투 게임 2XKO, 2년여 만에 한국 찾는다라이엇 게임즈가 신작 격투 게임 ‘2XKO(투엑스케이오)’ 한국 공식 소셜 채널을 23일 오픈하고 첫 번째 클로즈 베타 테스트(CBT) 일정을 공개했다.2XKO는 ‘리그 오브 레...\n",
      "    링크: https://news.nate.com/view/20250723n09604?mid=n0105\n",
      "    이미지: https://thumbnews.nateimg.co.kr/news90///news.nateimg.co.kr/orgImg/kx/2025/07/23/2025072310043614496_1753232676_0028437313.jpg\n"
     ]
    },
    {
     "data": {
      "text/html": [
       "<img src=\"https://thumbnews.nateimg.co.kr/news90///news.nateimg.co.kr/orgImg/kx/2025/07/23/2025072310043614496_1753232676_0028437313.jpg\" width=\"200\"/>"
      ],
      "text/plain": [
       "<IPython.core.display.Image object>"
      ]
     },
     "metadata": {},
     "output_type": "display_data"
    },
    {
     "name": "stdout",
     "output_type": "stream",
     "text": [
      "------------------------------\n",
      "\n",
      "[2] 제목: 아이나비시스템즈, 코스닥 상장예비심사 자진 철회[아이뉴스24 설재윤 기자] 팅크웨어의 모빌리티 맵 플랫폼 개발 자회사 아이나비시스템즈는 코스닥시장 상장예비심사를 자진 철회했다고 23일 밝혔다.아이나비시스템즈 로...\n",
      "    링크: https://news.nate.com/view/20250723n09573?mid=n0105\n",
      "    이미지: https://thumbnews.nateimg.co.kr/news90///news.nateimg.co.kr/orgImg/in/2025/07/23/ebe8ff24e47877.jpg\n"
     ]
    },
    {
     "data": {
      "text/html": [
       "<img src=\"https://thumbnews.nateimg.co.kr/news90///news.nateimg.co.kr/orgImg/in/2025/07/23/ebe8ff24e47877.jpg\" width=\"200\"/>"
      ],
      "text/plain": [
       "<IPython.core.display.Image object>"
      ]
     },
     "metadata": {},
     "output_type": "display_data"
    },
    {
     "name": "stdout",
     "output_type": "stream",
     "text": [
      "------------------------------\n",
      "\n",
      "[3] 제목: 코오롱베니트, 대신피아이씨와 'IoT 전기안전 예측경보시스템' 공동 출시코오롱 과천 본사. 코오롱베니트 제공 [파이낸셜뉴스] 코오롱베니트가 대신피아이씨와 함께 ‘IoT 전기안전 예측경보시스템’을 공동 개발해 출시했다. 이 시스템은 실시간...\n",
      "    링크: https://news.nate.com/view/20250723n04663?mid=n0105\n",
      "    이미지: https://thumbnews.nateimg.co.kr/news90///news.nateimg.co.kr/orgImg/fn/2025/07/23/202507230757520968_l.jpg\n"
     ]
    },
    {
     "data": {
      "text/html": [
       "<img src=\"https://thumbnews.nateimg.co.kr/news90///news.nateimg.co.kr/orgImg/fn/2025/07/23/202507230757520968_l.jpg\" width=\"200\"/>"
      ],
      "text/plain": [
       "<IPython.core.display.Image object>"
      ]
     },
     "metadata": {},
     "output_type": "display_data"
    },
    {
     "name": "stdout",
     "output_type": "stream",
     "text": [
      "------------------------------\n",
      "\n",
      "[4] 제목: CJ ENM, 사우디에 첫 깃발…K컬처 중동 진출 본격화프라임경제 CJ ENM(035760)이 국내 엔터테인먼트 기업 최초로 사우디아라비아에 현지 법인을 설립하며, 중동 시장 공략에 본격적으로 나섰다.회사는 최근 사우디 수도 리야...\n",
      "    링크: https://news.nate.com/view/20250723n09495?mid=n0105\n",
      "    이미지: https://thumbnews.nateimg.co.kr/news90///news.nateimg.co.kr/orgImg/fr/2025/07/23/art_697252_1753230659.jpg\n"
     ]
    },
    {
     "data": {
      "text/html": [
       "<img src=\"https://thumbnews.nateimg.co.kr/news90///news.nateimg.co.kr/orgImg/fr/2025/07/23/art_697252_1753230659.jpg\" width=\"200\"/>"
      ],
      "text/plain": [
       "<IPython.core.display.Image object>"
      ]
     },
     "metadata": {},
     "output_type": "display_data"
    },
    {
     "name": "stdout",
     "output_type": "stream",
     "text": [
      "------------------------------\n",
      "\n",
      "[5] 제목: '10만살' 원시별 주위서 뜨거운 응축…태양계 첫 탄생도 이랬을까태양계와 같은 행성계는 우주를 부유하는 가스와 먼지 구름이 응축하는 과정을 통해 형성된다. 자체 중력이나 외부 충격에 의해 응축이 시작되면 일정한 방향으로 회전하면...\n",
      "    링크: https://news.nate.com/view/20250723n07754?mid=n0105\n",
      "    이미지: https://thumbnews.nateimg.co.kr/news90///news.nateimg.co.kr/orgImg/hn/2025/07/23/17532313270998_20250723500556.jpg\n"
     ]
    },
    {
     "data": {
      "text/html": [
       "<img src=\"https://thumbnews.nateimg.co.kr/news90///news.nateimg.co.kr/orgImg/hn/2025/07/23/17532313270998_20250723500556.jpg\" width=\"200\"/>"
      ],
      "text/plain": [
       "<IPython.core.display.Image object>"
      ]
     },
     "metadata": {},
     "output_type": "display_data"
    },
    {
     "name": "stdout",
     "output_type": "stream",
     "text": [
      "------------------------------\n",
      "\n",
      "[6] 제목: SPC그룹 \"AI 기술 적용…안전 스마트 공장 설립\"SPC그룹이 안전 경영을 강화하기 위해 인공지능(AI)이 적용된 안전 스마트 공장을 세우겠다고 밝혔다.SPC는 그룹 쇄신을 위한 대표 협의체 ‘변화와 혁신 추진단’ 출범과 함께 첫 회의를 갖고 이 같은 내용을 의결...\n",
      "    링크: https://news.nate.com/view/20250723n00327?mid=n0105\n",
      "    이미지: 없음\n",
      "------------------------------\n",
      "\n",
      "[7] 제목: \"AI로 사회문제 해결\"…메가존클라우드, UNDP와 베트남서 협력(왼쪽부터)베트남 하노이 UN 그린원 사무소에서 메가존클라우드 염동훈 대표와 UNDP 라므라 하리디 상임대표가 업무협약 체결 후 기념촬영을 하고 있다.(사진=메가존클라우...\n",
      "    링크: https://news.nate.com/view/20250723n09397?mid=n0105\n",
      "    이미지: https://thumbnews.nateimg.co.kr/news90///news.nateimg.co.kr/orgImg/ns/2025/07/23/NISI20250723_0001900216_web.jpg\n"
     ]
    },
    {
     "data": {
      "text/html": [
       "<img src=\"https://thumbnews.nateimg.co.kr/news90///news.nateimg.co.kr/orgImg/ns/2025/07/23/NISI20250723_0001900216_web.jpg\" width=\"200\"/>"
      ],
      "text/plain": [
       "<IPython.core.display.Image object>"
      ]
     },
     "metadata": {},
     "output_type": "display_data"
    },
    {
     "name": "stdout",
     "output_type": "stream",
     "text": [
      "------------------------------\n",
      "\n",
      "[8] 제목: 3500만원 들여 '젊어지는 수술' 받은 60대女…\"두 가지 크게 후회\" [헬스톡]안면거상술을 받은 페기 린 마르케티(60)가 수술 후 젊어진 모습 공개했다. 사진=SNS 캡처 [파이낸셜뉴스] 최근 멕시코에서 약 2만 5천 달러(약 3500만 원)를 들여 안면거...\n",
      "    링크: https://news.nate.com/view/20250723n07321?mid=n0105\n",
      "    이미지: https://thumbnews.nateimg.co.kr/news90///news.nateimg.co.kr/orgImg/fn/2025/07/23/202507230922386144_l.jpg\n"
     ]
    },
    {
     "data": {
      "text/html": [
       "<img src=\"https://thumbnews.nateimg.co.kr/news90///news.nateimg.co.kr/orgImg/fn/2025/07/23/202507230922386144_l.jpg\" width=\"200\"/>"
      ],
      "text/plain": [
       "<IPython.core.display.Image object>"
      ]
     },
     "metadata": {},
     "output_type": "display_data"
    },
    {
     "name": "stdout",
     "output_type": "stream",
     "text": [
      "------------------------------\n",
      "\n",
      "[9] 제목: 베스핀글로벌, 노르마와 양자 클라우드 확산 MOU노르마 정현철 대표(왼쪽)와 베스핀글로벌 허양호 한국 대표가 업무 협약 체결 후 기념촬영을 하고 있다. 베스핀글로벌 제공 [파이낸셜뉴스] 베스핀글로벌은 23일 양자 컴...\n",
      "    링크: https://news.nate.com/view/20250723n09285?mid=n0105\n",
      "    이미지: https://thumbnews.nateimg.co.kr/news90///news.nateimg.co.kr/orgImg/fn/2025/07/23/202507230844104966_l.jpg\n"
     ]
    },
    {
     "data": {
      "text/html": [
       "<img src=\"https://thumbnews.nateimg.co.kr/news90///news.nateimg.co.kr/orgImg/fn/2025/07/23/202507230844104966_l.jpg\" width=\"200\"/>"
      ],
      "text/plain": [
       "<IPython.core.display.Image object>"
      ]
     },
     "metadata": {},
     "output_type": "display_data"
    },
    {
     "name": "stdout",
     "output_type": "stream",
     "text": [
      "------------------------------\n",
      "\n",
      "[10] 제목: 90년생 백민경 교수, APEC서 혁신 연구 성과 인정…AI로 단백질 구조 해독[서울=뉴시스] 아스파이어(ASPIRE)상 최종 우승자로 선정된 백민경 서울대 교수. (사진=과기정통부 제공) 2025.07.23. photo@newsis.com *재판매 및 DB 금지 [서울=뉴시스]...\n",
      "    링크: https://news.nate.com/view/20250723n07971?mid=n0105\n",
      "    이미지: https://thumbnews.nateimg.co.kr/news90///news.nateimg.co.kr/orgImg/ns/2025/07/23/NISI20250723_0001900215_web.jpg\n"
     ]
    },
    {
     "data": {
      "text/html": [
       "<img src=\"https://thumbnews.nateimg.co.kr/news90///news.nateimg.co.kr/orgImg/ns/2025/07/23/NISI20250723_0001900215_web.jpg\" width=\"200\"/>"
      ],
      "text/plain": [
       "<IPython.core.display.Image object>"
      ]
     },
     "metadata": {},
     "output_type": "display_data"
    },
    {
     "name": "stdout",
     "output_type": "stream",
     "text": [
      "------------------------------\n",
      "\n",
      "============================================================\n",
      "📊 뉴스 스크래핑 결과 요약\n",
      "============================================================\n",
      "최신뉴스: 10개 기사\n",
      "정치: 10개 기사\n",
      "경제: 10개 기사\n",
      "사회: 10개 기사\n",
      "세계: 10개 기사\n",
      "IT/과학: 10개 기사\n",
      "\n",
      "총 스크래핑된 기사 수: 60개\n",
      "\n",
      "스크래핑이 완료되었습니다!\n"
     ]
    }
   ],
   "source": [
    "import requests\n",
    "from bs4 import BeautifulSoup\n",
    "from urllib.parse import urljoin\n",
    "from IPython.display import Image, display\n",
    "import time\n",
    "\n",
    "def scrape_nate_news():\n",
    "    \"\"\"\n",
    "    네이트 뉴스의 6개 섹션(최신뉴스, 정치, 경제, 사회, 세계, IT/과학)에서 \n",
    "    뉴스 제목, 링크, 이미지를 스크래핑하는 함수\n",
    "    \"\"\"\n",
    "    base_url = \"https://news.nate.com\"\n",
    "    \n",
    "    # 각 섹션별 URL 매핑\n",
    "    sections = {\n",
    "        \"최신뉴스\": \"/recent?mid=n0100\",\n",
    "        \"정치\": \"/recent?mid=n0101\", \n",
    "        \"경제\": \"/recent?mid=n0102\",\n",
    "        \"사회\": \"/recent?mid=n0103\",\n",
    "        \"세계\": \"/recent?mid=n0104\",\n",
    "        \"IT/과학\": \"/recent?mid=n0105\"\n",
    "    }\n",
    "    \n",
    "    headers = {\n",
    "        'User-Agent': 'Mozilla/5.0 (Windows NT 10.0; Win64; x64) AppleWebKit/537.36 (KHTML, like Gecko) Chrome/91.0.4472.124 Safari/537.36'\n",
    "    }\n",
    "    \n",
    "    all_news = {}\n",
    "    \n",
    "    for section_name, section_path in sections.items():\n",
    "        print(f\"\\n{'='*50}\")\n",
    "        print(f\"📰 {section_name} 섹션\")\n",
    "        print(f\"{'='*50}\")\n",
    "        \n",
    "        try:\n",
    "            # 각 섹션 페이지 요청\n",
    "            url = base_url + section_path\n",
    "            response = requests.get(url, headers=headers)\n",
    "            response.raise_for_status()\n",
    "            \n",
    "            soup = BeautifulSoup(response.content, 'html.parser')\n",
    "            \n",
    "            # 뉴스 항목들 찾기 (네이트 뉴스 구조에 맞게 선택자 조정)\n",
    "            news_items = soup.find_all('div', class_='mduSubjectList') or \\\n",
    "                        soup.find_all('li', class_='mduSubject') or \\\n",
    "                        soup.find_all('div', class_='mduSubject')\n",
    "            \n",
    "            if not news_items:\n",
    "                # 다른 구조일 경우를 위한 대체 선택자\n",
    "                news_items = soup.select('.mduSubject, .subjectList li, .newsList li')\n",
    "            \n",
    "            section_news = []\n",
    "            \n",
    "            for i, item in enumerate(news_items[:10]):  # 상위 10개 뉴스만\n",
    "                try:\n",
    "                    # 제목과 링크 추출\n",
    "                    title_element = item.find('a') or item.find('span', class_='subject')\n",
    "                    if not title_element:\n",
    "                        continue\n",
    "                        \n",
    "                    title = title_element.get_text(strip=True)\n",
    "                    link = title_element.get('href', '')\n",
    "                    \n",
    "                    # 상대 경로를 절대 경로로 변환\n",
    "                    if link:\n",
    "                        full_link = urljoin(base_url, link)\n",
    "                    else:\n",
    "                        full_link = \"\"\n",
    "                    \n",
    "                    # 이미지 추출\n",
    "                    img_element = item.find('img')\n",
    "                    image_url = \"\"\n",
    "                    \n",
    "                    if img_element:\n",
    "                        img_src = img_element.get('src', '')\n",
    "                        if img_src:\n",
    "                            # 상대 경로를 절대 경로로 변환\n",
    "                            image_url = urljoin(base_url, img_src)\n",
    "                    \n",
    "                    # 결과 저장\n",
    "                    news_data = {\n",
    "                        'title': title,\n",
    "                        'link': full_link,\n",
    "                        'image_url': image_url\n",
    "                    }\n",
    "                    \n",
    "                    section_news.append(news_data)\n",
    "                    \n",
    "                    # 출력\n",
    "                    print(f\"\\n[{i+1}] 제목: {title}\")\n",
    "                    print(f\"    링크: {full_link}\")\n",
    "                    \n",
    "                    if image_url:\n",
    "                        print(f\"    이미지: {image_url}\")\n",
    "                        try:\n",
    "                            # 이미지 표시\n",
    "                            display(Image(url=image_url, width=200))\n",
    "                        except Exception as img_error:\n",
    "                            print(f\"    이미지 로드 실패: {img_error}\")\n",
    "                    else:\n",
    "                        print(\"    이미지: 없음\")\n",
    "                    \n",
    "                    print(\"-\" * 30)\n",
    "                    \n",
    "                except Exception as e:\n",
    "                    print(f\"뉴스 항목 처리 중 오류: {e}\")\n",
    "                    continue\n",
    "            \n",
    "            all_news[section_name] = section_news\n",
    "            \n",
    "            # 요청 간격 조정 (서버 부하 방지)\n",
    "            time.sleep(1)\n",
    "            \n",
    "        except Exception as e:\n",
    "            print(f\"{section_name} 섹션 스크래핑 중 오류 발생: {e}\")\n",
    "            all_news[section_name] = []\n",
    "    \n",
    "    return all_news\n",
    "\n",
    "def display_news_summary(news_data):\n",
    "    \"\"\"스크래핑된 뉴스 데이터의 요약 출력\"\"\"\n",
    "    print(f\"\\n{'='*60}\")\n",
    "    print(\"📊 뉴스 스크래핑 결과 요약\")\n",
    "    print(f\"{'='*60}\")\n",
    "    \n",
    "    for section, articles in news_data.items():\n",
    "        print(f\"{section}: {len(articles)}개 기사\")\n",
    "    \n",
    "    total_articles = sum(len(articles) for articles in news_data.values())\n",
    "    print(f\"\\n총 스크래핑된 기사 수: {total_articles}개\")\n",
    "\n",
    "# 실행 예제\n",
    "if __name__ == \"__main__\":\n",
    "    print(\"네이트 뉴스 스크래핑을 시작합니다...\")\n",
    "    \n",
    "    # 뉴스 스크래핑 실행\n",
    "    news_data = scrape_nate_news()\n",
    "    \n",
    "    # 결과 요약 출력\n",
    "    display_news_summary(news_data)\n",
    "    \n",
    "    print(\"\\n스크래핑이 완료되었습니다!\")"
   ]
  },
  {
   "cell_type": "code",
   "execution_count": 2,
   "id": "82d3ac15-74db-400d-ac9f-ae8306321e0e",
   "metadata": {},
   "outputs": [
    {
     "name": "stdout",
     "output_type": "stream",
     "text": [
      "============================================================\n",
      "웹툰 다운로드 시작\n",
      "제목: 일렉시드\n",
      "회차: 341\n",
      "URL: https://comic.naver.com/webtoon/detail?titleId=717481&no=341&week=wed\n",
      "============================================================\n",
      "디렉토리 생성: img\\일렉시드\\341\n",
      "웹툰 페이지 접근 중: https://comic.naver.com/webtoon/detail?titleId=717481&no=341&week=wed\n",
      "총 88개의 이미지를 발견했습니다.\n",
      "이미지 다운로드 중... [1/88] 001.jpg\n",
      "✓ 저장 완료: img\\일렉시드\\341\\001.jpg\n",
      "이미지 다운로드 중... [2/88] 002.jpg\n",
      "✓ 저장 완료: img\\일렉시드\\341\\002.jpg\n",
      "이미지 다운로드 중... [3/88] 003.jpg\n",
      "✓ 저장 완료: img\\일렉시드\\341\\003.jpg\n",
      "이미지 다운로드 중... [4/88] 004.jpg\n",
      "✓ 저장 완료: img\\일렉시드\\341\\004.jpg\n",
      "이미지 다운로드 중... [5/88] 005.jpg\n",
      "✓ 저장 완료: img\\일렉시드\\341\\005.jpg\n",
      "이미지 다운로드 중... [6/88] 006.jpg\n",
      "✓ 저장 완료: img\\일렉시드\\341\\006.jpg\n",
      "이미지 다운로드 중... [7/88] 007.jpg\n",
      "✓ 저장 완료: img\\일렉시드\\341\\007.jpg\n",
      "이미지 다운로드 중... [8/88] 008.jpg\n",
      "✓ 저장 완료: img\\일렉시드\\341\\008.jpg\n",
      "이미지 다운로드 중... [9/88] 009.jpg\n",
      "✓ 저장 완료: img\\일렉시드\\341\\009.jpg\n",
      "이미지 다운로드 중... [10/88] 010.jpg\n",
      "✓ 저장 완료: img\\일렉시드\\341\\010.jpg\n",
      "이미지 다운로드 중... [11/88] 011.jpg\n",
      "✓ 저장 완료: img\\일렉시드\\341\\011.jpg\n",
      "이미지 다운로드 중... [12/88] 012.jpg\n",
      "✓ 저장 완료: img\\일렉시드\\341\\012.jpg\n",
      "이미지 다운로드 중... [13/88] 013.jpg\n",
      "✓ 저장 완료: img\\일렉시드\\341\\013.jpg\n",
      "이미지 다운로드 중... [14/88] 014.jpg\n",
      "✓ 저장 완료: img\\일렉시드\\341\\014.jpg\n",
      "이미지 다운로드 중... [15/88] 015.jpg\n",
      "✓ 저장 완료: img\\일렉시드\\341\\015.jpg\n",
      "이미지 다운로드 중... [16/88] 016.jpg\n",
      "✓ 저장 완료: img\\일렉시드\\341\\016.jpg\n",
      "이미지 다운로드 중... [17/88] 017.jpg\n",
      "✓ 저장 완료: img\\일렉시드\\341\\017.jpg\n",
      "이미지 다운로드 중... [18/88] 018.jpg\n",
      "✓ 저장 완료: img\\일렉시드\\341\\018.jpg\n",
      "이미지 다운로드 중... [19/88] 019.jpg\n",
      "✓ 저장 완료: img\\일렉시드\\341\\019.jpg\n",
      "이미지 다운로드 중... [20/88] 020.jpg\n",
      "✓ 저장 완료: img\\일렉시드\\341\\020.jpg\n",
      "이미지 다운로드 중... [21/88] 021.jpg\n",
      "✓ 저장 완료: img\\일렉시드\\341\\021.jpg\n",
      "이미지 다운로드 중... [22/88] 022.jpg\n",
      "✓ 저장 완료: img\\일렉시드\\341\\022.jpg\n",
      "이미지 다운로드 중... [23/88] 023.jpg\n",
      "✓ 저장 완료: img\\일렉시드\\341\\023.jpg\n",
      "이미지 다운로드 중... [24/88] 024.jpg\n",
      "✓ 저장 완료: img\\일렉시드\\341\\024.jpg\n",
      "이미지 다운로드 중... [25/88] 025.jpg\n",
      "✓ 저장 완료: img\\일렉시드\\341\\025.jpg\n",
      "이미지 다운로드 중... [26/88] 026.jpg\n",
      "✓ 저장 완료: img\\일렉시드\\341\\026.jpg\n",
      "이미지 다운로드 중... [27/88] 027.jpg\n",
      "✓ 저장 완료: img\\일렉시드\\341\\027.jpg\n",
      "이미지 다운로드 중... [28/88] 028.jpg\n",
      "✓ 저장 완료: img\\일렉시드\\341\\028.jpg\n",
      "이미지 다운로드 중... [29/88] 029.jpg\n",
      "✓ 저장 완료: img\\일렉시드\\341\\029.jpg\n",
      "이미지 다운로드 중... [30/88] 030.jpg\n",
      "✓ 저장 완료: img\\일렉시드\\341\\030.jpg\n",
      "이미지 다운로드 중... [31/88] 031.jpg\n",
      "✓ 저장 완료: img\\일렉시드\\341\\031.jpg\n",
      "이미지 다운로드 중... [32/88] 032.jpg\n",
      "✓ 저장 완료: img\\일렉시드\\341\\032.jpg\n",
      "이미지 다운로드 중... [33/88] 033.jpg\n",
      "✓ 저장 완료: img\\일렉시드\\341\\033.jpg\n",
      "이미지 다운로드 중... [34/88] 034.jpg\n",
      "✓ 저장 완료: img\\일렉시드\\341\\034.jpg\n",
      "이미지 다운로드 중... [35/88] 035.jpg\n",
      "✓ 저장 완료: img\\일렉시드\\341\\035.jpg\n",
      "이미지 다운로드 중... [36/88] 036.jpg\n",
      "✓ 저장 완료: img\\일렉시드\\341\\036.jpg\n",
      "이미지 다운로드 중... [37/88] 037.jpg\n",
      "✓ 저장 완료: img\\일렉시드\\341\\037.jpg\n",
      "이미지 다운로드 중... [38/88] 038.jpg\n",
      "✓ 저장 완료: img\\일렉시드\\341\\038.jpg\n",
      "이미지 다운로드 중... [39/88] 039.jpg\n",
      "✓ 저장 완료: img\\일렉시드\\341\\039.jpg\n",
      "이미지 다운로드 중... [40/88] 040.jpg\n",
      "✓ 저장 완료: img\\일렉시드\\341\\040.jpg\n",
      "이미지 다운로드 중... [41/88] 041.jpg\n",
      "✓ 저장 완료: img\\일렉시드\\341\\041.jpg\n",
      "이미지 다운로드 중... [42/88] 042.jpg\n",
      "✓ 저장 완료: img\\일렉시드\\341\\042.jpg\n",
      "이미지 다운로드 중... [43/88] 043.jpg\n",
      "✓ 저장 완료: img\\일렉시드\\341\\043.jpg\n",
      "이미지 다운로드 중... [44/88] 044.jpg\n",
      "✓ 저장 완료: img\\일렉시드\\341\\044.jpg\n",
      "이미지 다운로드 중... [45/88] 045.jpg\n",
      "✓ 저장 완료: img\\일렉시드\\341\\045.jpg\n",
      "이미지 다운로드 중... [46/88] 046.jpg\n",
      "✓ 저장 완료: img\\일렉시드\\341\\046.jpg\n",
      "이미지 다운로드 중... [47/88] 047.jpg\n",
      "✓ 저장 완료: img\\일렉시드\\341\\047.jpg\n",
      "이미지 다운로드 중... [48/88] 048.jpg\n",
      "✓ 저장 완료: img\\일렉시드\\341\\048.jpg\n",
      "이미지 다운로드 중... [49/88] 049.jpg\n",
      "✓ 저장 완료: img\\일렉시드\\341\\049.jpg\n",
      "이미지 다운로드 중... [50/88] 050.jpg\n",
      "✓ 저장 완료: img\\일렉시드\\341\\050.jpg\n",
      "이미지 다운로드 중... [51/88] 051.jpg\n",
      "✓ 저장 완료: img\\일렉시드\\341\\051.jpg\n",
      "이미지 다운로드 중... [52/88] 052.jpg\n",
      "✓ 저장 완료: img\\일렉시드\\341\\052.jpg\n",
      "이미지 다운로드 중... [53/88] 053.jpg\n",
      "✓ 저장 완료: img\\일렉시드\\341\\053.jpg\n",
      "이미지 다운로드 중... [54/88] 054.jpg\n",
      "✓ 저장 완료: img\\일렉시드\\341\\054.jpg\n",
      "이미지 다운로드 중... [55/88] 055.jpg\n",
      "✓ 저장 완료: img\\일렉시드\\341\\055.jpg\n",
      "이미지 다운로드 중... [56/88] 056.jpg\n",
      "✓ 저장 완료: img\\일렉시드\\341\\056.jpg\n",
      "이미지 다운로드 중... [57/88] 057.jpg\n",
      "✓ 저장 완료: img\\일렉시드\\341\\057.jpg\n",
      "이미지 다운로드 중... [58/88] 058.jpg\n",
      "✓ 저장 완료: img\\일렉시드\\341\\058.jpg\n",
      "이미지 다운로드 중... [59/88] 059.jpg\n",
      "✓ 저장 완료: img\\일렉시드\\341\\059.jpg\n",
      "이미지 다운로드 중... [60/88] 060.jpg\n",
      "✓ 저장 완료: img\\일렉시드\\341\\060.jpg\n",
      "이미지 다운로드 중... [61/88] 061.jpg\n",
      "✓ 저장 완료: img\\일렉시드\\341\\061.jpg\n",
      "이미지 다운로드 중... [62/88] 062.jpg\n",
      "✓ 저장 완료: img\\일렉시드\\341\\062.jpg\n",
      "이미지 다운로드 중... [63/88] 063.jpg\n",
      "✓ 저장 완료: img\\일렉시드\\341\\063.jpg\n",
      "이미지 다운로드 중... [64/88] 064.jpg\n",
      "✓ 저장 완료: img\\일렉시드\\341\\064.jpg\n",
      "이미지 다운로드 중... [65/88] 065.jpg\n",
      "✓ 저장 완료: img\\일렉시드\\341\\065.jpg\n",
      "이미지 다운로드 중... [66/88] 066.jpg\n",
      "✓ 저장 완료: img\\일렉시드\\341\\066.jpg\n",
      "이미지 다운로드 중... [67/88] 067.jpg\n",
      "✓ 저장 완료: img\\일렉시드\\341\\067.jpg\n",
      "이미지 다운로드 중... [68/88] 068.jpg\n",
      "✓ 저장 완료: img\\일렉시드\\341\\068.jpg\n",
      "이미지 다운로드 중... [69/88] 069.jpg\n",
      "✓ 저장 완료: img\\일렉시드\\341\\069.jpg\n",
      "이미지 다운로드 중... [70/88] 070.jpg\n",
      "✓ 저장 완료: img\\일렉시드\\341\\070.jpg\n",
      "이미지 다운로드 중... [71/88] 071.jpg\n",
      "✓ 저장 완료: img\\일렉시드\\341\\071.jpg\n",
      "이미지 다운로드 중... [72/88] 072.jpg\n",
      "✓ 저장 완료: img\\일렉시드\\341\\072.jpg\n",
      "이미지 다운로드 중... [73/88] 073.jpg\n",
      "✓ 저장 완료: img\\일렉시드\\341\\073.jpg\n",
      "이미지 다운로드 중... [74/88] 074.jpg\n",
      "✓ 저장 완료: img\\일렉시드\\341\\074.jpg\n",
      "이미지 다운로드 중... [75/88] 075.jpg\n",
      "✓ 저장 완료: img\\일렉시드\\341\\075.jpg\n",
      "이미지 다운로드 중... [76/88] 076.jpg\n",
      "✓ 저장 완료: img\\일렉시드\\341\\076.jpg\n",
      "이미지 다운로드 중... [77/88] 077.jpg\n",
      "✓ 저장 완료: img\\일렉시드\\341\\077.jpg\n",
      "이미지 다운로드 중... [78/88] 078.jpg\n",
      "✓ 저장 완료: img\\일렉시드\\341\\078.jpg\n",
      "이미지 다운로드 중... [79/88] 079.jpg\n",
      "✓ 저장 완료: img\\일렉시드\\341\\079.jpg\n",
      "이미지 다운로드 중... [80/88] 080.jpg\n",
      "✓ 저장 완료: img\\일렉시드\\341\\080.jpg\n",
      "이미지 다운로드 중... [81/88] 081.jpg\n",
      "✓ 저장 완료: img\\일렉시드\\341\\081.jpg\n",
      "이미지 다운로드 중... [82/88] 082.jpg\n",
      "✓ 저장 완료: img\\일렉시드\\341\\082.jpg\n",
      "이미지 다운로드 중... [83/88] 083.jpg\n",
      "✓ 저장 완료: img\\일렉시드\\341\\083.jpg\n",
      "이미지 다운로드 중... [84/88] 084.jpg\n",
      "✓ 저장 완료: img\\일렉시드\\341\\084.jpg\n",
      "이미지 다운로드 중... [85/88] 085.jpg\n",
      "✓ 저장 완료: img\\일렉시드\\341\\085.jpg\n",
      "이미지 다운로드 중... [86/88] 086.jpg\n",
      "✓ 저장 완료: img\\일렉시드\\341\\086.jpg\n",
      "이미지 다운로드 중... [87/88] 087.jpg\n",
      "✓ 저장 완료: img\\일렉시드\\341\\087.jpg\n",
      "이미지 다운로드 중... [88/88] 088.jpg\n",
      "✓ 저장 완료: img\\일렉시드\\341\\088.jpg\n",
      "\n",
      "다운로드 완료!\n",
      "성공: 88/88개 이미지\n",
      "저장 위치: img\\일렉시드\\341\n"
     ]
    }
   ],
   "source": [
    "import os\n",
    "import requests\n",
    "from bs4 import BeautifulSoup\n",
    "import time\n",
    "from urllib.parse import urljoin\n",
    "import re\n",
    "\n",
    "def download_one_episode(title, no, url):\n",
    "    \"\"\"\n",
    "    네이버 웹툰의 특정 회차 이미지들을 다운로드하는 함수\n",
    "    \n",
    "    Args:\n",
    "        title (str): 웹툰 제목\n",
    "        no (int/str): 회차 번호\n",
    "        url (str): 웹툰 회차 URL\n",
    "    \"\"\"\n",
    "    \n",
    "    # 디렉토리 생성\n",
    "    base_dir = \"img\"\n",
    "    webtoon_dir = os.path.join(base_dir, title, str(no))\n",
    "    \n",
    "    try:\n",
    "        os.makedirs(webtoon_dir, exist_ok=True)\n",
    "        print(f\"디렉토리 생성: {webtoon_dir}\")\n",
    "    except Exception as e:\n",
    "        print(f\"디렉토리 생성 실패: {e}\")\n",
    "        return\n",
    "    \n",
    "    # 헤더 설정 (네이버 웹툰은 Referer 체크가 중요)\n",
    "    headers = {\n",
    "        'User-Agent': 'Mozilla/5.0 (Windows NT 10.0; Win64; x64) AppleWebKit/537.36 (KHTML, like Gecko) Chrome/91.0.4472.124 Safari/537.36',\n",
    "        'Referer': 'https://comic.naver.com/'\n",
    "    }\n",
    "    \n",
    "    try:\n",
    "        print(f\"웹툰 페이지 접근 중: {url}\")\n",
    "        response = requests.get(url, headers=headers)\n",
    "        response.raise_for_status()\n",
    "        \n",
    "        soup = BeautifulSoup(response.content, 'html.parser')\n",
    "        \n",
    "        # 웹툰 이미지들 찾기\n",
    "        # 네이버 웹툰의 이미지는 주로 .wt_viewer 클래스 내부에 있음\n",
    "        viewer_area = soup.find('div', class_='wt_viewer')\n",
    "        \n",
    "        if not viewer_area:\n",
    "            # 대체 선택자 시도\n",
    "            viewer_area = soup.find('div', {'id': 'comic_view_area'}) or \\\n",
    "                         soup.find('div', class_='viewer') or \\\n",
    "                         soup.find('div', class_='comic_viewer')\n",
    "        \n",
    "        if not viewer_area:\n",
    "            print(\"웹툰 이미지 영역을 찾을 수 없습니다.\")\n",
    "            return\n",
    "        \n",
    "        # 이미지 태그들 찾기\n",
    "        img_tags = viewer_area.find_all('img')\n",
    "        \n",
    "        if not img_tags:\n",
    "            print(\"웹툰 이미지를 찾을 수 없습니다.\")\n",
    "            return\n",
    "        \n",
    "        print(f\"총 {len(img_tags)}개의 이미지를 발견했습니다.\")\n",
    "        \n",
    "        downloaded_count = 0\n",
    "        \n",
    "        for i, img_tag in enumerate(img_tags, 1):\n",
    "            try:\n",
    "                img_src = img_tag.get('src')\n",
    "                if not img_src:\n",
    "                    continue\n",
    "                \n",
    "                # 이미지 URL이 상대 경로인 경우 절대 경로로 변환\n",
    "                img_url = urljoin('https://comic.naver.com', img_src)\n",
    "                \n",
    "                # 파일명 생성 (확장자 추출)\n",
    "                file_extension = os.path.splitext(img_url.split('?')[0])[-1]\n",
    "                if not file_extension:\n",
    "                    file_extension = '.jpg'  # 기본 확장자\n",
    "                \n",
    "                filename = f\"{i:03d}{file_extension}\"  # 001.jpg, 002.jpg 형식\n",
    "                filepath = os.path.join(webtoon_dir, filename)\n",
    "                \n",
    "                # 이미지 다운로드를 위한 헤더 (Referer 중요)\n",
    "                img_headers = {\n",
    "                    'User-Agent': 'Mozilla/5.0 (Windows NT 10.0; Win64; x64) AppleWebKit/537.36 (KHTML, like Gecko) Chrome/91.0.4472.124 Safari/537.36',\n",
    "                    'Referer': url\n",
    "                }\n",
    "                \n",
    "                print(f\"이미지 다운로드 중... [{i}/{len(img_tags)}] {filename}\")\n",
    "                \n",
    "                img_response = requests.get(img_url, headers=img_headers, stream=True)\n",
    "                img_response.raise_for_status()\n",
    "                \n",
    "                # 이미지 파일 저장\n",
    "                with open(filepath, 'wb') as f:\n",
    "                    for chunk in img_response.iter_content(chunk_size=8192):\n",
    "                        if chunk:\n",
    "                            f.write(chunk)\n",
    "                \n",
    "                downloaded_count += 1\n",
    "                print(f\"✓ 저장 완료: {filepath}\")\n",
    "                \n",
    "                # 요청 간격 조정 (서버 부하 방지)\n",
    "                time.sleep(0.5)\n",
    "                \n",
    "            except Exception as e:\n",
    "                print(f\"이미지 다운로드 실패 [{i}]: {e}\")\n",
    "                continue\n",
    "        \n",
    "        print(f\"\\n다운로드 완료!\")\n",
    "        print(f\"성공: {downloaded_count}/{len(img_tags)}개 이미지\")\n",
    "        print(f\"저장 위치: {webtoon_dir}\")\n",
    "        \n",
    "    except requests.RequestException as e:\n",
    "        print(f\"웹페이지 접근 실패: {e}\")\n",
    "    except Exception as e:\n",
    "        print(f\"예상치 못한 오류 발생: {e}\")\n",
    "\n",
    "def download_webtoon_with_retry(title, no, url, max_retries=3):\n",
    "    \"\"\"\n",
    "    재시도 기능이 포함된 웹툰 다운로드 함수\n",
    "    \"\"\"\n",
    "    for attempt in range(max_retries):\n",
    "        try:\n",
    "            print(f\"\\n시도 {attempt + 1}/{max_retries}\")\n",
    "            download_one_episode(title, no, url)\n",
    "            return  # 성공하면 함수 종료\n",
    "        except Exception as e:\n",
    "            print(f\"시도 {attempt + 1} 실패: {e}\")\n",
    "            if attempt < max_retries - 1:\n",
    "                print(\"5초 후 재시도합니다...\")\n",
    "                time.sleep(5)\n",
    "            else:\n",
    "                print(\"모든 시도가 실패했습니다.\")\n",
    "\n",
    "# 사용 예제\n",
    "if __name__ == \"__main__\":\n",
    "    # 예제 실행\n",
    "    title = '일렉시드'\n",
    "    episode_no = 341\n",
    "    webtoon_url = 'https://comic.naver.com/webtoon/detail?titleId=717481&no=341&week=wed'\n",
    "    \n",
    "    print(\"=\" * 60)\n",
    "    print(f\"웹툰 다운로드 시작\")\n",
    "    print(f\"제목: {title}\")\n",
    "    print(f\"회차: {episode_no}\")\n",
    "    print(f\"URL: {webtoon_url}\")\n",
    "    print(\"=\" * 60)\n",
    "    \n",
    "    # 기본 다운로드\n",
    "    download_one_episode(title, episode_no, webtoon_url)\n",
    "    \n",
    "    # 또는 재시도 기능 포함된 버전 사용\n",
    "    # download_webtoon_with_retry(title, episode_no, webtoon_url)"
   ]
  },
  {
   "cell_type": "code",
   "execution_count": null,
   "id": "5095167a-f881-47d1-8817-1956acfbc8f7",
   "metadata": {},
   "outputs": [],
   "source": []
  },
  {
   "cell_type": "code",
   "execution_count": null,
   "id": "4ef0507b-60fe-48e0-8a35-2a8811c57cde",
   "metadata": {},
   "outputs": [],
   "source": []
  }
 ],
 "metadata": {
  "kernelspec": {
   "display_name": "base",
   "language": "python",
   "name": "python3"
  },
  "language_info": {
   "codemirror_mode": {
    "name": "ipython",
    "version": 3
   },
   "file_extension": ".py",
   "mimetype": "text/x-python",
   "name": "python",
   "nbconvert_exporter": "python",
   "pygments_lexer": "ipython3",
   "version": "3.12.7"
  }
 },
 "nbformat": 4,
 "nbformat_minor": 5
}
