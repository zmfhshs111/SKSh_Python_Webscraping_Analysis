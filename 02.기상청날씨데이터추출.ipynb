{
 "cells": [
  {
   "cell_type": "markdown",
   "id": "e189201a",
   "metadata": {},
   "source": [
    "### 날씨 데이터 파싱\n",
    "* [기상청날씨데이터](http://www.kma.go.kr/weather/forecast/mid-term-rss3.jsp)\n",
    "* 파싱한 데이터를 dict, list 자료구조에 저장\n",
    "* 자료구조의 데이터를 json 파일로 저장\n",
    "* BeautifulSoup 의 find(), find_all(), select(), select_one() 함수 비교"
   ]
  },
  {
   "cell_type": "code",
   "execution_count": null,
   "id": "85ac3729",
   "metadata": {},
   "outputs": [
    {
     "name": "stdout",
     "output_type": "stream",
     "text": [
      "Name: lxml\n",
      "Version: 5.2.1\n",
      "Summary: Powerful and Pythonic XML processing library combining libxml2/libxslt with the ElementTree API.\n",
      "Home-page: https://lxml.de/\n",
      "Author: lxml dev team\n",
      "Author-email: lxml-dev@lxml.de\n",
      "License: BSD-3-Clause\n",
      "Location: C:\\Users\\KOSTA\\anaconda3\\Lib\\site-packages\n",
      "Requires: \n",
      "Required-by: parsel, Scrapy\n"
     ]
    }
   ],
   "source": [
    "# lxml 라이브러리 설치 확인 및 인스톨 하기\n"
   ]
  },
  {
   "cell_type": "code",
   "execution_count": 5,
   "id": "e26ac35c",
   "metadata": {},
   "outputs": [],
   "source": [
    "import requests\n",
    "from bs4 import BeautifulSoup\n",
    "\n",
    "url = 'http://www.kma.go.kr/weather/forecast/mid-term-rss3.jsp'\n",
    "\n"
   ]
  },
  {
   "cell_type": "markdown",
   "id": "aef512d0-f5db-4fa9-9e1b-7bcf5483a744",
   "metadata": {},
   "source": [
    "'''\n",
    "<location wl_ver=\"3\">\n",
    "    <province>서울ㆍ인천ㆍ경기도</province>\n",
    "    <city>서울</city>\n",
    "    <data>\n",
    "        <mode>A02</mode>\n",
    "        <tmEf>2022-08-28 00:00</tmEf>\n",
    "        <wf>맑음</wf>\n",
    "        <tmn>18</tmn>\n",
    "        <tmx>28</tmx>\n",
    "        <reliability/>\n",
    "        <rnSt>0</rnSt>\n",
    "    </data>\n",
    "    <data>\n",
    "        <mode>A02</mode>\n",
    "        <tmEf>2022-08-28 12:00</tmEf>\n",
    "        <wf>구름많음</wf>\n",
    "        <tmn>18</tmn>\n",
    "        <tmx>28</tmx>\n",
    "        <reliability/>\n",
    "        <rnSt>30</rnSt>\n",
    "    </data>\n",
    "</location>\n",
    "{\n",
    "  \"province\":\"서울ㆍ인천ㆍ경기도\",\n",
    "  \"city\":\"서울\",\n",
    "  \"datas\":[{\"mode:\"A02”,\"tmEf”:\"2022-01-31 00:00”,\"wf\":\"맑음\"},\n",
    "            {\"mode:\"A02”,\"tmEf”:\"2022-01-31 12:00”,\"wf\":\"구름많음\"},{},{}]\n",
    "}\n",
    "'''"
   ]
  },
  {
   "cell_type": "markdown",
   "id": "4a274e52",
   "metadata": {},
   "source": [
    "### 서울(city)의 날씨 데이터 Parsing"
   ]
  },
  {
   "cell_type": "code",
   "execution_count": 3,
   "id": "e16ec9a2",
   "metadata": {},
   "outputs": [],
   "source": [
    "import requests\n",
    "from bs4 import BeautifulSoup\n",
    "\n",
    "url = 'http://www.kma.go.kr/weather/forecast/mid-term-rss3.jsp'\n",
    "\n"
   ]
  },
  {
   "cell_type": "markdown",
   "id": "7c4e0ce9",
   "metadata": {},
   "source": [
    "### 41개 City의  날씨 데이터 파싱"
   ]
  },
  {
   "cell_type": "code",
   "execution_count": 2,
   "id": "f6395c39",
   "metadata": {},
   "outputs": [],
   "source": [
    "import requests\n",
    "from bs4 import BeautifulSoup\n",
    "\n",
    "url = 'http://www.kma.go.kr/weather/forecast/mid-term-rss3.jsp'\n",
    "\n"
   ]
  },
  {
   "cell_type": "markdown",
   "id": "8bf43b03",
   "metadata": {},
   "source": [
    "#### weather.json 파일로 저장하기"
   ]
  },
  {
   "cell_type": "code",
   "execution_count": null,
   "id": "a6d5c104-cd3f-41a8-b73b-738dba4cc104",
   "metadata": {},
   "outputs": [],
   "source": [
    "import json\n",
    "\n"
   ]
  },
  {
   "cell_type": "markdown",
   "id": "7ebaf9c8",
   "metadata": {},
   "source": [
    "#### weather.json 파일을 읽어오기"
   ]
  },
  {
   "cell_type": "code",
   "execution_count": 1,
   "id": "62524167-4551-41ae-9467-b6ffc3b869f6",
   "metadata": {},
   "outputs": [],
   "source": [
    "import json\n",
    "\n"
   ]
  }
 ],
 "metadata": {
  "kernelspec": {
   "display_name": "base",
   "language": "python",
   "name": "python3"
  },
  "language_info": {
   "codemirror_mode": {
    "name": "ipython",
    "version": 3
   },
   "file_extension": ".py",
   "mimetype": "text/x-python",
   "name": "python",
   "nbconvert_exporter": "python",
   "pygments_lexer": "ipython3",
   "version": "3.12.7"
  }
 },
 "nbformat": 4,
 "nbformat_minor": 5
}
